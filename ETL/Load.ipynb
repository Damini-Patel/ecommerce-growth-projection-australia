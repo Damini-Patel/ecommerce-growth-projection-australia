{
 "cells": [
  {
   "cell_type": "markdown",
   "metadata": {},
   "source": [
    "# Data Load into postgreSQL database"
   ]
  },
  {
   "cell_type": "markdown",
   "metadata": {},
   "source": [
    "## Import Dependencies"
   ]
  },
  {
   "cell_type": "code",
   "execution_count": 1,
   "metadata": {},
   "outputs": [],
   "source": [
    "import pandas as pd\n",
    "from sqlalchemy import create_engine"
   ]
  },
  {
   "cell_type": "markdown",
   "metadata": {},
   "source": [
    "## Read in CSV file to be loaded to database"
   ]
  },
  {
   "cell_type": "code",
   "execution_count": 2,
   "metadata": {},
   "outputs": [
    {
     "data": {
      "text/html": [
       "<div>\n",
       "<style scoped>\n",
       "    .dataframe tbody tr th:only-of-type {\n",
       "        vertical-align: middle;\n",
       "    }\n",
       "\n",
       "    .dataframe tbody tr th {\n",
       "        vertical-align: top;\n",
       "    }\n",
       "\n",
       "    .dataframe thead th {\n",
       "        text-align: right;\n",
       "    }\n",
       "</style>\n",
       "<table border=\"1\" class=\"dataframe\">\n",
       "  <thead>\n",
       "    <tr style=\"text-align: right;\">\n",
       "      <th></th>\n",
       "      <th>date</th>\n",
       "      <th>year</th>\n",
       "      <th>month</th>\n",
       "      <th>online_food_turnover</th>\n",
       "      <th>online_nonfood_turnover</th>\n",
       "      <th>online_total_turnover</th>\n",
       "      <th>total_revenue_turnover</th>\n",
       "    </tr>\n",
       "  </thead>\n",
       "  <tbody>\n",
       "    <tr>\n",
       "      <th>0</th>\n",
       "      <td>Jul-2013</td>\n",
       "      <td>2013</td>\n",
       "      <td>Jul</td>\n",
       "      <td>139.5</td>\n",
       "      <td>331.4</td>\n",
       "      <td>470.9</td>\n",
       "      <td>22042.6</td>\n",
       "    </tr>\n",
       "    <tr>\n",
       "      <th>1</th>\n",
       "      <td>Aug-2013</td>\n",
       "      <td>2013</td>\n",
       "      <td>Aug</td>\n",
       "      <td>146.7</td>\n",
       "      <td>329.6</td>\n",
       "      <td>476.3</td>\n",
       "      <td>22204.7</td>\n",
       "    </tr>\n",
       "    <tr>\n",
       "      <th>2</th>\n",
       "      <td>Sep-2013</td>\n",
       "      <td>2013</td>\n",
       "      <td>Sep</td>\n",
       "      <td>139.7</td>\n",
       "      <td>322.7</td>\n",
       "      <td>462.4</td>\n",
       "      <td>22356.5</td>\n",
       "    </tr>\n",
       "    <tr>\n",
       "      <th>3</th>\n",
       "      <td>Oct-2013</td>\n",
       "      <td>2013</td>\n",
       "      <td>Oct</td>\n",
       "      <td>127.9</td>\n",
       "      <td>351.6</td>\n",
       "      <td>479.5</td>\n",
       "      <td>22431.6</td>\n",
       "    </tr>\n",
       "    <tr>\n",
       "      <th>4</th>\n",
       "      <td>Nov-2013</td>\n",
       "      <td>2013</td>\n",
       "      <td>Nov</td>\n",
       "      <td>138.5</td>\n",
       "      <td>388.1</td>\n",
       "      <td>526.6</td>\n",
       "      <td>22630.9</td>\n",
       "    </tr>\n",
       "  </tbody>\n",
       "</table>\n",
       "</div>"
      ],
      "text/plain": [
       "       date  year month  online_food_turnover  online_nonfood_turnover  \\\n",
       "0  Jul-2013  2013   Jul                 139.5                    331.4   \n",
       "1  Aug-2013  2013   Aug                 146.7                    329.6   \n",
       "2  Sep-2013  2013   Sep                 139.7                    322.7   \n",
       "3  Oct-2013  2013   Oct                 127.9                    351.6   \n",
       "4  Nov-2013  2013   Nov                 138.5                    388.1   \n",
       "\n",
       "   online_total_turnover  total_revenue_turnover  \n",
       "0                  470.9                 22042.6  \n",
       "1                  476.3                 22204.7  \n",
       "2                  462.4                 22356.5  \n",
       "3                  479.5                 22431.6  \n",
       "4                  526.6                 22630.9  "
      ]
     },
     "execution_count": 2,
     "metadata": {},
     "output_type": "execute_result"
    }
   ],
   "source": [
    "file = \"../resources/data.csv\"\n",
    "data = pd.read_csv(file)\n",
    "data.head()"
   ]
  },
  {
   "cell_type": "markdown",
   "metadata": {},
   "source": [
    "## Add database connection"
   ]
  },
  {
   "cell_type": "code",
   "execution_count": 3,
   "metadata": {},
   "outputs": [],
   "source": [
    "# connect to database\n",
    "connection_string = \"USERNAME:PASSWORD@localhost:5432/ecommerce\"\n",
    "engine = create_engine(f'postgresql://{connection_string}')"
   ]
  },
  {
   "cell_type": "code",
   "execution_count": 4,
   "metadata": {},
   "outputs": [
    {
     "data": {
      "text/plain": [
       "['ecomau']"
      ]
     },
     "execution_count": 4,
     "metadata": {},
     "output_type": "execute_result"
    }
   ],
   "source": [
    "# confirm tables\n",
    "engine.table_names()"
   ]
  },
  {
   "cell_type": "markdown",
   "metadata": {},
   "source": [
    " ## Load dataframe into database"
   ]
  },
  {
   "cell_type": "code",
   "execution_count": 5,
   "metadata": {},
   "outputs": [],
   "source": [
    "# use pandas to load dataframe to database\n",
    "data.to_sql(name='ecomau', con=engine, if_exists='append', index=False)"
   ]
  },
  {
   "cell_type": "markdown",
   "metadata": {},
   "source": [
    "## Check that dataframe has loaded successfully"
   ]
  },
  {
   "cell_type": "code",
   "execution_count": 6,
   "metadata": {},
   "outputs": [
    {
     "data": {
      "text/html": [
       "<div>\n",
       "<style scoped>\n",
       "    .dataframe tbody tr th:only-of-type {\n",
       "        vertical-align: middle;\n",
       "    }\n",
       "\n",
       "    .dataframe tbody tr th {\n",
       "        vertical-align: top;\n",
       "    }\n",
       "\n",
       "    .dataframe thead th {\n",
       "        text-align: right;\n",
       "    }\n",
       "</style>\n",
       "<table border=\"1\" class=\"dataframe\">\n",
       "  <thead>\n",
       "    <tr style=\"text-align: right;\">\n",
       "      <th></th>\n",
       "      <th>id</th>\n",
       "      <th>date</th>\n",
       "      <th>year</th>\n",
       "      <th>month</th>\n",
       "      <th>online_food_turnover</th>\n",
       "      <th>online_nonfood_turnover</th>\n",
       "      <th>online_total_turnover</th>\n",
       "      <th>total_revenue_turnover</th>\n",
       "    </tr>\n",
       "  </thead>\n",
       "  <tbody>\n",
       "    <tr>\n",
       "      <th>0</th>\n",
       "      <td>1</td>\n",
       "      <td>Jul-2013</td>\n",
       "      <td>2013</td>\n",
       "      <td>Jul</td>\n",
       "      <td>139.5</td>\n",
       "      <td>331.4</td>\n",
       "      <td>470.9</td>\n",
       "      <td>22042.6</td>\n",
       "    </tr>\n",
       "    <tr>\n",
       "      <th>1</th>\n",
       "      <td>2</td>\n",
       "      <td>Aug-2013</td>\n",
       "      <td>2013</td>\n",
       "      <td>Aug</td>\n",
       "      <td>146.7</td>\n",
       "      <td>329.6</td>\n",
       "      <td>476.3</td>\n",
       "      <td>22204.7</td>\n",
       "    </tr>\n",
       "    <tr>\n",
       "      <th>2</th>\n",
       "      <td>3</td>\n",
       "      <td>Sep-2013</td>\n",
       "      <td>2013</td>\n",
       "      <td>Sep</td>\n",
       "      <td>139.7</td>\n",
       "      <td>322.7</td>\n",
       "      <td>462.4</td>\n",
       "      <td>22356.5</td>\n",
       "    </tr>\n",
       "    <tr>\n",
       "      <th>3</th>\n",
       "      <td>4</td>\n",
       "      <td>Oct-2013</td>\n",
       "      <td>2013</td>\n",
       "      <td>Oct</td>\n",
       "      <td>127.9</td>\n",
       "      <td>351.6</td>\n",
       "      <td>479.5</td>\n",
       "      <td>22431.6</td>\n",
       "    </tr>\n",
       "    <tr>\n",
       "      <th>4</th>\n",
       "      <td>5</td>\n",
       "      <td>Nov-2013</td>\n",
       "      <td>2013</td>\n",
       "      <td>Nov</td>\n",
       "      <td>138.5</td>\n",
       "      <td>388.1</td>\n",
       "      <td>526.6</td>\n",
       "      <td>22630.9</td>\n",
       "    </tr>\n",
       "  </tbody>\n",
       "</table>\n",
       "</div>"
      ],
      "text/plain": [
       "   id      date  year month  online_food_turnover  online_nonfood_turnover  \\\n",
       "0   1  Jul-2013  2013   Jul                 139.5                    331.4   \n",
       "1   2  Aug-2013  2013   Aug                 146.7                    329.6   \n",
       "2   3  Sep-2013  2013   Sep                 139.7                    322.7   \n",
       "3   4  Oct-2013  2013   Oct                 127.9                    351.6   \n",
       "4   5  Nov-2013  2013   Nov                 138.5                    388.1   \n",
       "\n",
       "   online_total_turnover  total_revenue_turnover  \n",
       "0                  470.9                 22042.6  \n",
       "1                  476.3                 22204.7  \n",
       "2                  462.4                 22356.5  \n",
       "3                  479.5                 22431.6  \n",
       "4                  526.6                 22630.9  "
      ]
     },
     "execution_count": 6,
     "metadata": {},
     "output_type": "execute_result"
    }
   ],
   "source": [
    "pd.read_sql_query('select * from ecomau', con=engine).head()"
   ]
  },
  {
   "cell_type": "code",
   "execution_count": null,
   "metadata": {},
   "outputs": [],
   "source": []
  },
  {
   "cell_type": "code",
   "execution_count": null,
   "metadata": {},
   "outputs": [],
   "source": []
  }
 ],
 "metadata": {
  "kernelspec": {
   "display_name": "Python 3",
   "language": "python",
   "name": "python3"
  },
  "language_info": {
   "codemirror_mode": {
    "name": "ipython",
    "version": 3
   },
   "file_extension": ".py",
   "mimetype": "text/x-python",
   "name": "python",
   "nbconvert_exporter": "python",
   "pygments_lexer": "ipython3",
   "version": "3.8.5"
  }
 },
 "nbformat": 4,
 "nbformat_minor": 4
}