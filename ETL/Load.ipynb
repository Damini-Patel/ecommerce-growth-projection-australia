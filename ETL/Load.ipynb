{
 "cells": [
  {
   "cell_type": "markdown",
   "metadata": {},
   "source": [
    "# Data Load into postgreSQL database"
   ]
  },
  {
   "cell_type": "markdown",
   "metadata": {},
   "source": [
    "## Import Dependencies"
   ]
  },
  {
   "cell_type": "code",
   "execution_count": 1,
   "metadata": {},
   "outputs": [],
   "source": [
    "import pandas as pd\n",
    "from sqlalchemy import create_engine"
   ]
  },
  {
   "cell_type": "markdown",
   "metadata": {},
   "source": [
    "## Read in CSV file to be loaded to database"
   ]
  },
  {
   "cell_type": "code",
   "execution_count": 2,
   "metadata": {},
   "outputs": [
    {
     "output_type": "execute_result",
     "data": {
      "text/plain": [
       "       date  year month  online_food_turnover  online_nonfood_turnover  \\\n",
       "0  Jul-2013  2013   Jul                 139.5                    331.4   \n",
       "1  Aug-2013  2013   Aug                 146.7                    329.6   \n",
       "2  Sep-2013  2013   Sep                 139.7                    322.7   \n",
       "3  Oct-2013  2013   Oct                 127.9                    351.6   \n",
       "4  Nov-2013  2013   Nov                 138.5                    388.1   \n",
       "\n",
       "   online_total_turnover  total_revenue_turnover  \n",
       "0                  470.9                 22042.6  \n",
       "1                  476.3                 22204.7  \n",
       "2                  462.4                 22356.5  \n",
       "3                  479.5                 22431.6  \n",
       "4                  526.6                 22630.9  "
      ],
      "text/html": "<div>\n<style scoped>\n    .dataframe tbody tr th:only-of-type {\n        vertical-align: middle;\n    }\n\n    .dataframe tbody tr th {\n        vertical-align: top;\n    }\n\n    .dataframe thead th {\n        text-align: right;\n    }\n</style>\n<table border=\"1\" class=\"dataframe\">\n  <thead>\n    <tr style=\"text-align: right;\">\n      <th></th>\n      <th>date</th>\n      <th>year</th>\n      <th>month</th>\n      <th>online_food_turnover</th>\n      <th>online_nonfood_turnover</th>\n      <th>online_total_turnover</th>\n      <th>total_revenue_turnover</th>\n    </tr>\n  </thead>\n  <tbody>\n    <tr>\n      <th>0</th>\n      <td>Jul-2013</td>\n      <td>2013</td>\n      <td>Jul</td>\n      <td>139.5</td>\n      <td>331.4</td>\n      <td>470.9</td>\n      <td>22042.6</td>\n    </tr>\n    <tr>\n      <th>1</th>\n      <td>Aug-2013</td>\n      <td>2013</td>\n      <td>Aug</td>\n      <td>146.7</td>\n      <td>329.6</td>\n      <td>476.3</td>\n      <td>22204.7</td>\n    </tr>\n    <tr>\n      <th>2</th>\n      <td>Sep-2013</td>\n      <td>2013</td>\n      <td>Sep</td>\n      <td>139.7</td>\n      <td>322.7</td>\n      <td>462.4</td>\n      <td>22356.5</td>\n    </tr>\n    <tr>\n      <th>3</th>\n      <td>Oct-2013</td>\n      <td>2013</td>\n      <td>Oct</td>\n      <td>127.9</td>\n      <td>351.6</td>\n      <td>479.5</td>\n      <td>22431.6</td>\n    </tr>\n    <tr>\n      <th>4</th>\n      <td>Nov-2013</td>\n      <td>2013</td>\n      <td>Nov</td>\n      <td>138.5</td>\n      <td>388.1</td>\n      <td>526.6</td>\n      <td>22630.9</td>\n    </tr>\n  </tbody>\n</table>\n</div>"
     },
     "metadata": {},
     "execution_count": 2
    }
   ],
   "source": [
    "file = \"../resources/data.csv\"\n",
    "data = pd.read_csv(file)\n",
    "data.head()"
   ]
  },
  {
   "cell_type": "code",
   "execution_count": 11,
   "metadata": {},
   "outputs": [
    {
     "output_type": "execute_result",
     "data": {
      "text/plain": [
       "       date  year month  online_food_turnover  online_nonfood_turnover  \\\n",
       "0  Jul-2013  2013   Jul                 139.5                    331.4   \n",
       "1  Aug-2013  2013   Aug                 146.7                    329.6   \n",
       "2  Sep-2013  2013   Sep                 139.7                    322.7   \n",
       "3  Oct-2013  2013   Oct                 127.9                    351.6   \n",
       "4  Nov-2013  2013   Nov                 138.5                    388.1   \n",
       "\n",
       "   online_total_turnover  total_revenue_turnover  \n",
       "0                  470.9                 22042.6  \n",
       "1                  476.3                 22204.7  \n",
       "2                  462.4                 22356.5  \n",
       "3                  479.5                 22431.6  \n",
       "4                  526.6                 22630.9  "
      ],
      "text/html": "<div>\n<style scoped>\n    .dataframe tbody tr th:only-of-type {\n        vertical-align: middle;\n    }\n\n    .dataframe tbody tr th {\n        vertical-align: top;\n    }\n\n    .dataframe thead th {\n        text-align: right;\n    }\n</style>\n<table border=\"1\" class=\"dataframe\">\n  <thead>\n    <tr style=\"text-align: right;\">\n      <th></th>\n      <th>date</th>\n      <th>year</th>\n      <th>month</th>\n      <th>online_food_turnover</th>\n      <th>online_nonfood_turnover</th>\n      <th>online_total_turnover</th>\n      <th>total_revenue_turnover</th>\n    </tr>\n  </thead>\n  <tbody>\n    <tr>\n      <th>0</th>\n      <td>Jul-2013</td>\n      <td>2013</td>\n      <td>Jul</td>\n      <td>139.5</td>\n      <td>331.4</td>\n      <td>470.9</td>\n      <td>22042.6</td>\n    </tr>\n    <tr>\n      <th>1</th>\n      <td>Aug-2013</td>\n      <td>2013</td>\n      <td>Aug</td>\n      <td>146.7</td>\n      <td>329.6</td>\n      <td>476.3</td>\n      <td>22204.7</td>\n    </tr>\n    <tr>\n      <th>2</th>\n      <td>Sep-2013</td>\n      <td>2013</td>\n      <td>Sep</td>\n      <td>139.7</td>\n      <td>322.7</td>\n      <td>462.4</td>\n      <td>22356.5</td>\n    </tr>\n    <tr>\n      <th>3</th>\n      <td>Oct-2013</td>\n      <td>2013</td>\n      <td>Oct</td>\n      <td>127.9</td>\n      <td>351.6</td>\n      <td>479.5</td>\n      <td>22431.6</td>\n    </tr>\n    <tr>\n      <th>4</th>\n      <td>Nov-2013</td>\n      <td>2013</td>\n      <td>Nov</td>\n      <td>138.5</td>\n      <td>388.1</td>\n      <td>526.6</td>\n      <td>22630.9</td>\n    </tr>\n  </tbody>\n</table>\n</div>"
     },
     "metadata": {},
     "execution_count": 11
    }
   ],
   "source": [
    "file = \"../resources/covid.csv\"\n",
    "covid = pd.read_csv(file)\n",
    "covid.head()"
   ]
  },
  {
   "cell_type": "code",
   "execution_count": 12,
   "metadata": {},
   "outputs": [
    {
     "output_type": "execute_result",
     "data": {
      "text/plain": [
       "       date  year month  online_food_turnover  online_nonfood_turnover  \\\n",
       "0  Jan-2020  2020   Jan                 513.8                   1341.3   \n",
       "1  Feb-2020  2020   Feb                 548.5                   1388.1   \n",
       "2  Mar-2020  2020   Mar                 525.1                   1673.9   \n",
       "3  Apr-2020  2020   Apr                 603.2                   2191.1   \n",
       "4  May-2020  2020   May                 713.6                   2157.2   \n",
       "\n",
       "   online_total_turnover  total_revenue_turnover  \n",
       "0                 1855.0                 27608.3  \n",
       "1                 1936.6                 27775.7  \n",
       "2                 2199.0                 30033.3  \n",
       "3                 2794.3                 24816.7  \n",
       "4                 2870.7                 28940.1  "
      ],
      "text/html": "<div>\n<style scoped>\n    .dataframe tbody tr th:only-of-type {\n        vertical-align: middle;\n    }\n\n    .dataframe tbody tr th {\n        vertical-align: top;\n    }\n\n    .dataframe thead th {\n        text-align: right;\n    }\n</style>\n<table border=\"1\" class=\"dataframe\">\n  <thead>\n    <tr style=\"text-align: right;\">\n      <th></th>\n      <th>date</th>\n      <th>year</th>\n      <th>month</th>\n      <th>online_food_turnover</th>\n      <th>online_nonfood_turnover</th>\n      <th>online_total_turnover</th>\n      <th>total_revenue_turnover</th>\n    </tr>\n  </thead>\n  <tbody>\n    <tr>\n      <th>0</th>\n      <td>Jan-2020</td>\n      <td>2020</td>\n      <td>Jan</td>\n      <td>513.8</td>\n      <td>1341.3</td>\n      <td>1855.0</td>\n      <td>27608.3</td>\n    </tr>\n    <tr>\n      <th>1</th>\n      <td>Feb-2020</td>\n      <td>2020</td>\n      <td>Feb</td>\n      <td>548.5</td>\n      <td>1388.1</td>\n      <td>1936.6</td>\n      <td>27775.7</td>\n    </tr>\n    <tr>\n      <th>2</th>\n      <td>Mar-2020</td>\n      <td>2020</td>\n      <td>Mar</td>\n      <td>525.1</td>\n      <td>1673.9</td>\n      <td>2199.0</td>\n      <td>30033.3</td>\n    </tr>\n    <tr>\n      <th>3</th>\n      <td>Apr-2020</td>\n      <td>2020</td>\n      <td>Apr</td>\n      <td>603.2</td>\n      <td>2191.1</td>\n      <td>2794.3</td>\n      <td>24816.7</td>\n    </tr>\n    <tr>\n      <th>4</th>\n      <td>May-2020</td>\n      <td>2020</td>\n      <td>May</td>\n      <td>713.6</td>\n      <td>2157.2</td>\n      <td>2870.7</td>\n      <td>28940.1</td>\n    </tr>\n  </tbody>\n</table>\n</div>"
     },
     "metadata": {},
     "execution_count": 12
    }
   ],
   "source": [
    "file = \"../resources/predict.csv\"\n",
    "post = pd.read_csv(file)\n",
    "post.head()"
   ]
  },
  {
   "cell_type": "markdown",
   "metadata": {},
   "source": [
    "## Add database connection"
   ]
  },
  {
   "cell_type": "code",
   "execution_count": 8,
   "metadata": {},
   "outputs": [],
   "source": [
    "# connect to database\n",
    "connection_string = \"USERNAME:PASSWORD@localhost:5432/ecommerce\"\n",
    "engine = create_engine(f'postgresql://{connection_string}')"
   ]
  },
  {
   "cell_type": "code",
   "execution_count": 9,
   "metadata": {},
   "outputs": [
    {
     "output_type": "execute_result",
     "data": {
      "text/plain": [
       "['ecomau', 'precovid', 'postcovid']"
      ]
     },
     "metadata": {},
     "execution_count": 9
    }
   ],
   "source": [
    "# confirm tables\n",
    "engine.table_names()"
   ]
  },
  {
   "cell_type": "markdown",
   "metadata": {},
   "source": [
    " ## Load dataframe into database"
   ]
  },
  {
   "cell_type": "code",
   "execution_count": null,
   "metadata": {},
   "outputs": [],
   "source": [
    "# use pandas to load dataframe to database\n",
    "data.to_sql(name='ecomau', con=engine, if_exists='append', index=False)"
   ]
  },
  {
   "cell_type": "code",
   "execution_count": 13,
   "metadata": {},
   "outputs": [],
   "source": [
    "# use pandas to load dataframe to database\n",
    "covid.to_sql(name='precovid', con=engine, if_exists='append', index=False)"
   ]
  },
  {
   "cell_type": "code",
   "execution_count": 14,
   "metadata": {},
   "outputs": [],
   "source": [
    "# use pandas to load dataframe to database\n",
    "post.to_sql(name='postcovid', con=engine, if_exists='append', index=False)"
   ]
  },
  {
   "cell_type": "markdown",
   "metadata": {},
   "source": [
    "## Check that dataframe has loaded successfully"
   ]
  },
  {
   "cell_type": "code",
   "execution_count": 17,
   "metadata": {},
   "outputs": [
    {
     "output_type": "execute_result",
     "data": {
      "text/plain": [
       "   id      date  year month  online_food_turnover  online_nonfood_turnover  \\\n",
       "0   1  Jul-2013  2013   Jul                 139.5                    331.4   \n",
       "1   2  Aug-2013  2013   Aug                 146.7                    329.6   \n",
       "2   3  Sep-2013  2013   Sep                 139.7                    322.7   \n",
       "3   4  Oct-2013  2013   Oct                 127.9                    351.6   \n",
       "4   5  Nov-2013  2013   Nov                 138.5                    388.1   \n",
       "\n",
       "   online_total_turnover  total_revenue_turnover  \n",
       "0                  470.9                 22042.6  \n",
       "1                  476.3                 22204.7  \n",
       "2                  462.4                 22356.5  \n",
       "3                  479.5                 22431.6  \n",
       "4                  526.6                 22630.9  "
      ],
      "text/html": "<div>\n<style scoped>\n    .dataframe tbody tr th:only-of-type {\n        vertical-align: middle;\n    }\n\n    .dataframe tbody tr th {\n        vertical-align: top;\n    }\n\n    .dataframe thead th {\n        text-align: right;\n    }\n</style>\n<table border=\"1\" class=\"dataframe\">\n  <thead>\n    <tr style=\"text-align: right;\">\n      <th></th>\n      <th>id</th>\n      <th>date</th>\n      <th>year</th>\n      <th>month</th>\n      <th>online_food_turnover</th>\n      <th>online_nonfood_turnover</th>\n      <th>online_total_turnover</th>\n      <th>total_revenue_turnover</th>\n    </tr>\n  </thead>\n  <tbody>\n    <tr>\n      <th>0</th>\n      <td>1</td>\n      <td>Jul-2013</td>\n      <td>2013</td>\n      <td>Jul</td>\n      <td>139.5</td>\n      <td>331.4</td>\n      <td>470.9</td>\n      <td>22042.6</td>\n    </tr>\n    <tr>\n      <th>1</th>\n      <td>2</td>\n      <td>Aug-2013</td>\n      <td>2013</td>\n      <td>Aug</td>\n      <td>146.7</td>\n      <td>329.6</td>\n      <td>476.3</td>\n      <td>22204.7</td>\n    </tr>\n    <tr>\n      <th>2</th>\n      <td>3</td>\n      <td>Sep-2013</td>\n      <td>2013</td>\n      <td>Sep</td>\n      <td>139.7</td>\n      <td>322.7</td>\n      <td>462.4</td>\n      <td>22356.5</td>\n    </tr>\n    <tr>\n      <th>3</th>\n      <td>4</td>\n      <td>Oct-2013</td>\n      <td>2013</td>\n      <td>Oct</td>\n      <td>127.9</td>\n      <td>351.6</td>\n      <td>479.5</td>\n      <td>22431.6</td>\n    </tr>\n    <tr>\n      <th>4</th>\n      <td>5</td>\n      <td>Nov-2013</td>\n      <td>2013</td>\n      <td>Nov</td>\n      <td>138.5</td>\n      <td>388.1</td>\n      <td>526.6</td>\n      <td>22630.9</td>\n    </tr>\n  </tbody>\n</table>\n</div>"
     },
     "metadata": {},
     "execution_count": 17
    }
   ],
   "source": [
    "pd.read_sql_query('select * from ecomau', con=engine).head()"
   ]
  },
  {
   "cell_type": "code",
   "execution_count": 18,
   "metadata": {},
   "outputs": [
    {
     "output_type": "execute_result",
     "data": {
      "text/plain": [
       "   id      date  year month  online_food_turnover  online_nonfood_turnover  \\\n",
       "0   1  Jul-2013  2013   Jul                 139.5                    331.4   \n",
       "1   2  Aug-2013  2013   Aug                 146.7                    329.6   \n",
       "2   3  Sep-2013  2013   Sep                 139.7                    322.7   \n",
       "3   4  Oct-2013  2013   Oct                 127.9                    351.6   \n",
       "4   5  Nov-2013  2013   Nov                 138.5                    388.1   \n",
       "\n",
       "   online_total_turnover  total_revenue_turnover  \n",
       "0                  470.9                 22042.6  \n",
       "1                  476.3                 22204.7  \n",
       "2                  462.4                 22356.5  \n",
       "3                  479.5                 22431.6  \n",
       "4                  526.6                 22630.9  "
      ],
      "text/html": "<div>\n<style scoped>\n    .dataframe tbody tr th:only-of-type {\n        vertical-align: middle;\n    }\n\n    .dataframe tbody tr th {\n        vertical-align: top;\n    }\n\n    .dataframe thead th {\n        text-align: right;\n    }\n</style>\n<table border=\"1\" class=\"dataframe\">\n  <thead>\n    <tr style=\"text-align: right;\">\n      <th></th>\n      <th>id</th>\n      <th>date</th>\n      <th>year</th>\n      <th>month</th>\n      <th>online_food_turnover</th>\n      <th>online_nonfood_turnover</th>\n      <th>online_total_turnover</th>\n      <th>total_revenue_turnover</th>\n    </tr>\n  </thead>\n  <tbody>\n    <tr>\n      <th>0</th>\n      <td>1</td>\n      <td>Jul-2013</td>\n      <td>2013</td>\n      <td>Jul</td>\n      <td>139.5</td>\n      <td>331.4</td>\n      <td>470.9</td>\n      <td>22042.6</td>\n    </tr>\n    <tr>\n      <th>1</th>\n      <td>2</td>\n      <td>Aug-2013</td>\n      <td>2013</td>\n      <td>Aug</td>\n      <td>146.7</td>\n      <td>329.6</td>\n      <td>476.3</td>\n      <td>22204.7</td>\n    </tr>\n    <tr>\n      <th>2</th>\n      <td>3</td>\n      <td>Sep-2013</td>\n      <td>2013</td>\n      <td>Sep</td>\n      <td>139.7</td>\n      <td>322.7</td>\n      <td>462.4</td>\n      <td>22356.5</td>\n    </tr>\n    <tr>\n      <th>3</th>\n      <td>4</td>\n      <td>Oct-2013</td>\n      <td>2013</td>\n      <td>Oct</td>\n      <td>127.9</td>\n      <td>351.6</td>\n      <td>479.5</td>\n      <td>22431.6</td>\n    </tr>\n    <tr>\n      <th>4</th>\n      <td>5</td>\n      <td>Nov-2013</td>\n      <td>2013</td>\n      <td>Nov</td>\n      <td>138.5</td>\n      <td>388.1</td>\n      <td>526.6</td>\n      <td>22630.9</td>\n    </tr>\n  </tbody>\n</table>\n</div>"
     },
     "metadata": {},
     "execution_count": 18
    }
   ],
   "source": [
    "pd.read_sql_query('select * from precovid', con=engine).head()"
   ]
  },
  {
   "cell_type": "code",
   "execution_count": 19,
   "metadata": {},
   "outputs": [
    {
     "output_type": "execute_result",
     "data": {
      "text/plain": [
       "   id      date  year month  online_food_turnover  online_nonfood_turnover  \\\n",
       "0   1  Jan-2020  2020   Jan                 513.8                   1341.3   \n",
       "1   2  Feb-2020  2020   Feb                 548.5                   1388.1   \n",
       "2   3  Mar-2020  2020   Mar                 525.1                   1673.9   \n",
       "3   4  Apr-2020  2020   Apr                 603.2                   2191.1   \n",
       "4   5  May-2020  2020   May                 713.6                   2157.2   \n",
       "\n",
       "   online_total_turnover  total_revenue_turnover  \n",
       "0                 1855.0                 27608.3  \n",
       "1                 1936.6                 27775.7  \n",
       "2                 2199.0                 30033.3  \n",
       "3                 2794.3                 24816.7  \n",
       "4                 2870.7                 28940.1  "
      ],
      "text/html": "<div>\n<style scoped>\n    .dataframe tbody tr th:only-of-type {\n        vertical-align: middle;\n    }\n\n    .dataframe tbody tr th {\n        vertical-align: top;\n    }\n\n    .dataframe thead th {\n        text-align: right;\n    }\n</style>\n<table border=\"1\" class=\"dataframe\">\n  <thead>\n    <tr style=\"text-align: right;\">\n      <th></th>\n      <th>id</th>\n      <th>date</th>\n      <th>year</th>\n      <th>month</th>\n      <th>online_food_turnover</th>\n      <th>online_nonfood_turnover</th>\n      <th>online_total_turnover</th>\n      <th>total_revenue_turnover</th>\n    </tr>\n  </thead>\n  <tbody>\n    <tr>\n      <th>0</th>\n      <td>1</td>\n      <td>Jan-2020</td>\n      <td>2020</td>\n      <td>Jan</td>\n      <td>513.8</td>\n      <td>1341.3</td>\n      <td>1855.0</td>\n      <td>27608.3</td>\n    </tr>\n    <tr>\n      <th>1</th>\n      <td>2</td>\n      <td>Feb-2020</td>\n      <td>2020</td>\n      <td>Feb</td>\n      <td>548.5</td>\n      <td>1388.1</td>\n      <td>1936.6</td>\n      <td>27775.7</td>\n    </tr>\n    <tr>\n      <th>2</th>\n      <td>3</td>\n      <td>Mar-2020</td>\n      <td>2020</td>\n      <td>Mar</td>\n      <td>525.1</td>\n      <td>1673.9</td>\n      <td>2199.0</td>\n      <td>30033.3</td>\n    </tr>\n    <tr>\n      <th>3</th>\n      <td>4</td>\n      <td>Apr-2020</td>\n      <td>2020</td>\n      <td>Apr</td>\n      <td>603.2</td>\n      <td>2191.1</td>\n      <td>2794.3</td>\n      <td>24816.7</td>\n    </tr>\n    <tr>\n      <th>4</th>\n      <td>5</td>\n      <td>May-2020</td>\n      <td>2020</td>\n      <td>May</td>\n      <td>713.6</td>\n      <td>2157.2</td>\n      <td>2870.7</td>\n      <td>28940.1</td>\n    </tr>\n  </tbody>\n</table>\n</div>"
     },
     "metadata": {},
     "execution_count": 19
    }
   ],
   "source": [
    "pd.read_sql_query('select * from postcovid', con=engine).head()"
   ]
  }
 ],
 "metadata": {
  "kernelspec": {
   "name": "python3610jvsc74a57bd018e2e335f35a4c4d34cff36871b5d576298c7ae996a33daf743effcf7ec1200d",
   "display_name": "Python 3.6.10 64-bit ('PythonData': conda)"
  },
  "language_info": {
   "codemirror_mode": {
    "name": "ipython",
    "version": 3
   },
   "file_extension": ".py",
   "mimetype": "text/x-python",
   "name": "python",
   "nbconvert_exporter": "python",
   "pygments_lexer": "ipython3",
   "version": "3.6.10"
  },
  "metadata": {
   "interpreter": {
    "hash": "63fd5069d213b44bf678585dea6b12cceca9941eaf7f819626cde1f2670de90d"
   }
  }
 },
 "nbformat": 4,
 "nbformat_minor": 4
}