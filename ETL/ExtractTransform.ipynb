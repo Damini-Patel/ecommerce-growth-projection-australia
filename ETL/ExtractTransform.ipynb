{
 "cells": [
  {
   "cell_type": "markdown",
   "metadata": {},
   "source": [
    "# Extract, Transform Data"
   ]
  },
  {
   "cell_type": "markdown",
   "metadata": {},
   "source": [
    "## Extract"
   ]
  },
  {
   "cell_type": "code",
   "execution_count": 1,
   "metadata": {},
   "outputs": [],
   "source": [
    "#Import Dependenices\n",
    "import pandas as pd"
   ]
  },
  {
   "cell_type": "markdown",
   "metadata": {},
   "source": [
    "### Bring the data in"
   ]
  },
  {
   "cell_type": "code",
   "execution_count": 3,
   "metadata": {},
   "outputs": [
    {
     "output_type": "execute_result",
     "data": {
      "text/plain": [
       "         Unnamed: 0 Turnover; Total Sales (State); Online Food Retailing ;  \\\n",
       "0              Unit                                         $ Millions       \n",
       "1       Series Type                                           Original       \n",
       "2         Data Type                                               FLOW       \n",
       "3         Frequency                                              Month       \n",
       "4  Collection Month                                                  1       \n",
       "\n",
       "  Turnover; Total Sales (State); Online Non-Food Retailing ;  \\\n",
       "0                                         $ Millions           \n",
       "1                                           Original           \n",
       "2                                               FLOW           \n",
       "3                                              Month           \n",
       "4                                                  1           \n",
       "\n",
       "  Turnover Sales; Total (State); Online Total (Industry) ;  \\\n",
       "0                                         $ Millions         \n",
       "1                                           Original         \n",
       "2                                               FLOW         \n",
       "3                                              Month         \n",
       "4                                                  1         \n",
       "\n",
       "  Turnover; Total Sales (State); Online Food Retailing ;.1  \\\n",
       "0                                         $ Millions         \n",
       "1                                Seasonally Adjusted         \n",
       "2                                               FLOW         \n",
       "3                                              Month         \n",
       "4                                                  1         \n",
       "\n",
       "  Turnover; Total Sales (State); Online Non-Food Retailing ;.1  \\\n",
       "0                                         $ Millions             \n",
       "1                                Seasonally Adjusted             \n",
       "2                                               FLOW             \n",
       "3                                              Month             \n",
       "4                                                  1             \n",
       "\n",
       "  Turnover Sales; Total (State); Online Total (Industry) ;.1  \\\n",
       "0                                         $ Millions           \n",
       "1                                Seasonally Adjusted           \n",
       "2                                               FLOW           \n",
       "3                                              Month           \n",
       "4                                                  1           \n",
       "\n",
       "  Turnover; Total Sales (State); Online Food Retailing ;.2  \\\n",
       "0                                         $ Millions         \n",
       "1                                              Trend         \n",
       "2                                               FLOW         \n",
       "3                                              Month         \n",
       "4                                                  1         \n",
       "\n",
       "  Turnover; Total Sales (State); Online Non-Food Retailing ;.2  \\\n",
       "0                                         $ Millions             \n",
       "1                                              Trend             \n",
       "2                                               FLOW             \n",
       "3                                              Month             \n",
       "4                                                  1             \n",
       "\n",
       "  Turnover Sales; Total (State); Online Total (Industry) ;.2  \n",
       "0                                         $ Millions          \n",
       "1                                              Trend          \n",
       "2                                               FLOW          \n",
       "3                                              Month          \n",
       "4                                                  1          "
      ],
      "text/html": "<div>\n<style scoped>\n    .dataframe tbody tr th:only-of-type {\n        vertical-align: middle;\n    }\n\n    .dataframe tbody tr th {\n        vertical-align: top;\n    }\n\n    .dataframe thead th {\n        text-align: right;\n    }\n</style>\n<table border=\"1\" class=\"dataframe\">\n  <thead>\n    <tr style=\"text-align: right;\">\n      <th></th>\n      <th>Unnamed: 0</th>\n      <th>Turnover; Total Sales (State); Online Food Retailing ;</th>\n      <th>Turnover; Total Sales (State); Online Non-Food Retailing ;</th>\n      <th>Turnover Sales; Total (State); Online Total (Industry) ;</th>\n      <th>Turnover; Total Sales (State); Online Food Retailing ;.1</th>\n      <th>Turnover; Total Sales (State); Online Non-Food Retailing ;.1</th>\n      <th>Turnover Sales; Total (State); Online Total (Industry) ;.1</th>\n      <th>Turnover; Total Sales (State); Online Food Retailing ;.2</th>\n      <th>Turnover; Total Sales (State); Online Non-Food Retailing ;.2</th>\n      <th>Turnover Sales; Total (State); Online Total (Industry) ;.2</th>\n    </tr>\n  </thead>\n  <tbody>\n    <tr>\n      <th>0</th>\n      <td>Unit</td>\n      <td>$ Millions</td>\n      <td>$ Millions</td>\n      <td>$ Millions</td>\n      <td>$ Millions</td>\n      <td>$ Millions</td>\n      <td>$ Millions</td>\n      <td>$ Millions</td>\n      <td>$ Millions</td>\n      <td>$ Millions</td>\n    </tr>\n    <tr>\n      <th>1</th>\n      <td>Series Type</td>\n      <td>Original</td>\n      <td>Original</td>\n      <td>Original</td>\n      <td>Seasonally Adjusted</td>\n      <td>Seasonally Adjusted</td>\n      <td>Seasonally Adjusted</td>\n      <td>Trend</td>\n      <td>Trend</td>\n      <td>Trend</td>\n    </tr>\n    <tr>\n      <th>2</th>\n      <td>Data Type</td>\n      <td>FLOW</td>\n      <td>FLOW</td>\n      <td>FLOW</td>\n      <td>FLOW</td>\n      <td>FLOW</td>\n      <td>FLOW</td>\n      <td>FLOW</td>\n      <td>FLOW</td>\n      <td>FLOW</td>\n    </tr>\n    <tr>\n      <th>3</th>\n      <td>Frequency</td>\n      <td>Month</td>\n      <td>Month</td>\n      <td>Month</td>\n      <td>Month</td>\n      <td>Month</td>\n      <td>Month</td>\n      <td>Month</td>\n      <td>Month</td>\n      <td>Month</td>\n    </tr>\n    <tr>\n      <th>4</th>\n      <td>Collection Month</td>\n      <td>1</td>\n      <td>1</td>\n      <td>1</td>\n      <td>1</td>\n      <td>1</td>\n      <td>1</td>\n      <td>1</td>\n      <td>1</td>\n      <td>1</td>\n    </tr>\n  </tbody>\n</table>\n</div>"
     },
     "metadata": {},
     "execution_count": 3
    }
   ],
   "source": [
    "#Spreadsheet 1 (online)\n",
    "csv_file = \"../resources/australia online turnover.csv\"\n",
    "online_raw = pd.read_csv(csv_file)\n",
    "online_raw.head()"
   ]
  },
  {
   "cell_type": "code",
   "execution_count": 4,
   "metadata": {},
   "outputs": [
    {
     "output_type": "execute_result",
     "data": {
      "text/plain": [
       "         Unnamed: 0 Turnover ;  New South Wales ;  Total (Industry) ;  \\\n",
       "0              Unit                                        $ Millions   \n",
       "1       Series Type                                          Original   \n",
       "2         Data Type                                              FLOW   \n",
       "3         Frequency                                             Month   \n",
       "4  Collection Month                                                 1   \n",
       "\n",
       "  Turnover ;  Victoria ;  Total (Industry) ;  \\\n",
       "0                                 $ Millions   \n",
       "1                                   Original   \n",
       "2                                       FLOW   \n",
       "3                                      Month   \n",
       "4                                          1   \n",
       "\n",
       "  Turnover ;  Queensland ;  Total (Industry) ;  \\\n",
       "0                                   $ Millions   \n",
       "1                                     Original   \n",
       "2                                         FLOW   \n",
       "3                                        Month   \n",
       "4                                            1   \n",
       "\n",
       "  Turnover ;  South Australia ;  Total (Industry) ;  \\\n",
       "0                                        $ Millions   \n",
       "1                                          Original   \n",
       "2                                              FLOW   \n",
       "3                                             Month   \n",
       "4                                                 1   \n",
       "\n",
       "  Turnover ;  Western Australia ;  Total (Industry) ;  \\\n",
       "0                                         $ Millions    \n",
       "1                                           Original    \n",
       "2                                               FLOW    \n",
       "3                                              Month    \n",
       "4                                                  1    \n",
       "\n",
       "  Turnover ;  Tasmania ;  Total (Industry) ;  \\\n",
       "0                                 $ Millions   \n",
       "1                                   Original   \n",
       "2                                       FLOW   \n",
       "3                                      Month   \n",
       "4                                          1   \n",
       "\n",
       "  Turnover ;  Northern Territory ;  Total (Industry) ;  \\\n",
       "0                                         $ Millions     \n",
       "1                                           Original     \n",
       "2                                               FLOW     \n",
       "3                                              Month     \n",
       "4                                                  1     \n",
       "\n",
       "  Turnover ;  Australian Capital Territory ;  Total (Industry) ;  \\\n",
       "0                                         $ Millions               \n",
       "1                                           Original               \n",
       "2                                               FLOW               \n",
       "3                                              Month               \n",
       "4                                                  1               \n",
       "\n",
       "  Turnover ;  Total (State) ;  Total (Industry) ;  ...  \\\n",
       "0                                      $ Millions  ...   \n",
       "1                                        Original  ...   \n",
       "2                                            FLOW  ...   \n",
       "3                                           Month  ...   \n",
       "4                                               1  ...   \n",
       "\n",
       "  Turnover ;  Total (State) ;  Total (Industry) ;.1  \\\n",
       "0                                        $ Millions   \n",
       "1                               Seasonally Adjusted   \n",
       "2                                              FLOW   \n",
       "3                                             Month   \n",
       "4                                                 1   \n",
       "\n",
       "  Turnover ;  New South Wales ;  Total (Industry) ;.2  \\\n",
       "0                                         $ Millions    \n",
       "1                                              Trend    \n",
       "2                                               FLOW    \n",
       "3                                              Month    \n",
       "4                                                  1    \n",
       "\n",
       "  Turnover ;  Victoria ;  Total (Industry) ;.2  \\\n",
       "0                                   $ Millions   \n",
       "1                                        Trend   \n",
       "2                                         FLOW   \n",
       "3                                        Month   \n",
       "4                                            1   \n",
       "\n",
       "  Turnover ;  Queensland ;  Total (Industry) ;.2  \\\n",
       "0                                     $ Millions   \n",
       "1                                          Trend   \n",
       "2                                           FLOW   \n",
       "3                                          Month   \n",
       "4                                              1   \n",
       "\n",
       "  Turnover ;  South Australia ;  Total (Industry) ;.2  \\\n",
       "0                                         $ Millions    \n",
       "1                                              Trend    \n",
       "2                                               FLOW    \n",
       "3                                              Month    \n",
       "4                                                  1    \n",
       "\n",
       "  Turnover ;  Western Australia ;  Total (Industry) ;.2  \\\n",
       "0                                         $ Millions      \n",
       "1                                              Trend      \n",
       "2                                               FLOW      \n",
       "3                                              Month      \n",
       "4                                                  1      \n",
       "\n",
       "  Turnover ;  Tasmania ;  Total (Industry) ;.2  \\\n",
       "0                                   $ Millions   \n",
       "1                                        Trend   \n",
       "2                                         FLOW   \n",
       "3                                        Month   \n",
       "4                                            1   \n",
       "\n",
       "  Turnover ;  Northern Territory ;  Total (Industry) ;.2  \\\n",
       "0                                         $ Millions       \n",
       "1                                              Trend       \n",
       "2                                               FLOW       \n",
       "3                                              Month       \n",
       "4                                                  1       \n",
       "\n",
       "  Turnover ;  Australian Capital Territory ;  Total (Industry) ;.2  \\\n",
       "0                                         $ Millions                 \n",
       "1                                              Trend                 \n",
       "2                                               FLOW                 \n",
       "3                                              Month                 \n",
       "4                                                  1                 \n",
       "\n",
       "  Turnover ;  Total (State) ;  Total (Industry) ;.2  \n",
       "0                                        $ Millions  \n",
       "1                                             Trend  \n",
       "2                                              FLOW  \n",
       "3                                             Month  \n",
       "4                                                 1  \n",
       "\n",
       "[5 rows x 28 columns]"
      ],
      "text/html": "<div>\n<style scoped>\n    .dataframe tbody tr th:only-of-type {\n        vertical-align: middle;\n    }\n\n    .dataframe tbody tr th {\n        vertical-align: top;\n    }\n\n    .dataframe thead th {\n        text-align: right;\n    }\n</style>\n<table border=\"1\" class=\"dataframe\">\n  <thead>\n    <tr style=\"text-align: right;\">\n      <th></th>\n      <th>Unnamed: 0</th>\n      <th>Turnover ;  New South Wales ;  Total (Industry) ;</th>\n      <th>Turnover ;  Victoria ;  Total (Industry) ;</th>\n      <th>Turnover ;  Queensland ;  Total (Industry) ;</th>\n      <th>Turnover ;  South Australia ;  Total (Industry) ;</th>\n      <th>Turnover ;  Western Australia ;  Total (Industry) ;</th>\n      <th>Turnover ;  Tasmania ;  Total (Industry) ;</th>\n      <th>Turnover ;  Northern Territory ;  Total (Industry) ;</th>\n      <th>Turnover ;  Australian Capital Territory ;  Total (Industry) ;</th>\n      <th>Turnover ;  Total (State) ;  Total (Industry) ;</th>\n      <th>...</th>\n      <th>Turnover ;  Total (State) ;  Total (Industry) ;.1</th>\n      <th>Turnover ;  New South Wales ;  Total (Industry) ;.2</th>\n      <th>Turnover ;  Victoria ;  Total (Industry) ;.2</th>\n      <th>Turnover ;  Queensland ;  Total (Industry) ;.2</th>\n      <th>Turnover ;  South Australia ;  Total (Industry) ;.2</th>\n      <th>Turnover ;  Western Australia ;  Total (Industry) ;.2</th>\n      <th>Turnover ;  Tasmania ;  Total (Industry) ;.2</th>\n      <th>Turnover ;  Northern Territory ;  Total (Industry) ;.2</th>\n      <th>Turnover ;  Australian Capital Territory ;  Total (Industry) ;.2</th>\n      <th>Turnover ;  Total (State) ;  Total (Industry) ;.2</th>\n    </tr>\n  </thead>\n  <tbody>\n    <tr>\n      <th>0</th>\n      <td>Unit</td>\n      <td>$ Millions</td>\n      <td>$ Millions</td>\n      <td>$ Millions</td>\n      <td>$ Millions</td>\n      <td>$ Millions</td>\n      <td>$ Millions</td>\n      <td>$ Millions</td>\n      <td>$ Millions</td>\n      <td>$ Millions</td>\n      <td>...</td>\n      <td>$ Millions</td>\n      <td>$ Millions</td>\n      <td>$ Millions</td>\n      <td>$ Millions</td>\n      <td>$ Millions</td>\n      <td>$ Millions</td>\n      <td>$ Millions</td>\n      <td>$ Millions</td>\n      <td>$ Millions</td>\n      <td>$ Millions</td>\n    </tr>\n    <tr>\n      <th>1</th>\n      <td>Series Type</td>\n      <td>Original</td>\n      <td>Original</td>\n      <td>Original</td>\n      <td>Original</td>\n      <td>Original</td>\n      <td>Original</td>\n      <td>Original</td>\n      <td>Original</td>\n      <td>Original</td>\n      <td>...</td>\n      <td>Seasonally Adjusted</td>\n      <td>Trend</td>\n      <td>Trend</td>\n      <td>Trend</td>\n      <td>Trend</td>\n      <td>Trend</td>\n      <td>Trend</td>\n      <td>Trend</td>\n      <td>Trend</td>\n      <td>Trend</td>\n    </tr>\n    <tr>\n      <th>2</th>\n      <td>Data Type</td>\n      <td>FLOW</td>\n      <td>FLOW</td>\n      <td>FLOW</td>\n      <td>FLOW</td>\n      <td>FLOW</td>\n      <td>FLOW</td>\n      <td>FLOW</td>\n      <td>FLOW</td>\n      <td>FLOW</td>\n      <td>...</td>\n      <td>FLOW</td>\n      <td>FLOW</td>\n      <td>FLOW</td>\n      <td>FLOW</td>\n      <td>FLOW</td>\n      <td>FLOW</td>\n      <td>FLOW</td>\n      <td>FLOW</td>\n      <td>FLOW</td>\n      <td>FLOW</td>\n    </tr>\n    <tr>\n      <th>3</th>\n      <td>Frequency</td>\n      <td>Month</td>\n      <td>Month</td>\n      <td>Month</td>\n      <td>Month</td>\n      <td>Month</td>\n      <td>Month</td>\n      <td>Month</td>\n      <td>Month</td>\n      <td>Month</td>\n      <td>...</td>\n      <td>Month</td>\n      <td>Month</td>\n      <td>Month</td>\n      <td>Month</td>\n      <td>Month</td>\n      <td>Month</td>\n      <td>Month</td>\n      <td>Month</td>\n      <td>Month</td>\n      <td>Month</td>\n    </tr>\n    <tr>\n      <th>4</th>\n      <td>Collection Month</td>\n      <td>1</td>\n      <td>1</td>\n      <td>1</td>\n      <td>1</td>\n      <td>1</td>\n      <td>1</td>\n      <td>1</td>\n      <td>1</td>\n      <td>1</td>\n      <td>...</td>\n      <td>1</td>\n      <td>1</td>\n      <td>1</td>\n      <td>1</td>\n      <td>1</td>\n      <td>1</td>\n      <td>1</td>\n      <td>1</td>\n      <td>1</td>\n      <td>1</td>\n    </tr>\n  </tbody>\n</table>\n<p>5 rows × 28 columns</p>\n</div>"
     },
     "metadata": {},
     "execution_count": 4
    }
   ],
   "source": [
    "#Spreasheet 2 (retail)\n",
    "csv_file = \"../resources/turnover by state.csv\"\n",
    "retail_raw = pd.read_csv(csv_file)\n",
    "retail_raw.head()"
   ]
  },
  {
   "cell_type": "markdown",
   "metadata": {},
   "source": [
    "## Transform"
   ]
  },
  {
   "cell_type": "code",
   "execution_count": 5,
   "metadata": {},
   "outputs": [
    {
     "output_type": "execute_result",
     "data": {
      "text/plain": [
       "         Unnamed: 0 Turnover; Total Sales (State); Online Food Retailing ;.1  \\\n",
       "0              Unit                                         $ Millions         \n",
       "1       Series Type                                Seasonally Adjusted         \n",
       "2         Data Type                                               FLOW         \n",
       "3         Frequency                                              Month         \n",
       "4  Collection Month                                                  1         \n",
       "\n",
       "  Turnover; Total Sales (State); Online Non-Food Retailing ;.1  \\\n",
       "0                                         $ Millions             \n",
       "1                                Seasonally Adjusted             \n",
       "2                                               FLOW             \n",
       "3                                              Month             \n",
       "4                                                  1             \n",
       "\n",
       "  Turnover Sales; Total (State); Online Total (Industry) ;.1  \n",
       "0                                         $ Millions          \n",
       "1                                Seasonally Adjusted          \n",
       "2                                               FLOW          \n",
       "3                                              Month          \n",
       "4                                                  1          "
      ],
      "text/html": "<div>\n<style scoped>\n    .dataframe tbody tr th:only-of-type {\n        vertical-align: middle;\n    }\n\n    .dataframe tbody tr th {\n        vertical-align: top;\n    }\n\n    .dataframe thead th {\n        text-align: right;\n    }\n</style>\n<table border=\"1\" class=\"dataframe\">\n  <thead>\n    <tr style=\"text-align: right;\">\n      <th></th>\n      <th>Unnamed: 0</th>\n      <th>Turnover; Total Sales (State); Online Food Retailing ;.1</th>\n      <th>Turnover; Total Sales (State); Online Non-Food Retailing ;.1</th>\n      <th>Turnover Sales; Total (State); Online Total (Industry) ;.1</th>\n    </tr>\n  </thead>\n  <tbody>\n    <tr>\n      <th>0</th>\n      <td>Unit</td>\n      <td>$ Millions</td>\n      <td>$ Millions</td>\n      <td>$ Millions</td>\n    </tr>\n    <tr>\n      <th>1</th>\n      <td>Series Type</td>\n      <td>Seasonally Adjusted</td>\n      <td>Seasonally Adjusted</td>\n      <td>Seasonally Adjusted</td>\n    </tr>\n    <tr>\n      <th>2</th>\n      <td>Data Type</td>\n      <td>FLOW</td>\n      <td>FLOW</td>\n      <td>FLOW</td>\n    </tr>\n    <tr>\n      <th>3</th>\n      <td>Frequency</td>\n      <td>Month</td>\n      <td>Month</td>\n      <td>Month</td>\n    </tr>\n    <tr>\n      <th>4</th>\n      <td>Collection Month</td>\n      <td>1</td>\n      <td>1</td>\n      <td>1</td>\n    </tr>\n  </tbody>\n</table>\n</div>"
     },
     "metadata": {},
     "execution_count": 5
    }
   ],
   "source": [
    "# Create a filtered online dataframe from specific columns\n",
    "online_columns = [\"Unnamed: 0\", \"Turnover; Total Sales (State); Online Food Retailing ;.1\", \"Turnover; Total Sales (State); Online Non-Food Retailing ;.1\", \"Turnover Sales; Total (State); Online Total (Industry) ;.1\"]\n",
    "online_df = online_raw[online_columns].copy()\n",
    "online_df.head()"
   ]
  },
  {
   "cell_type": "code",
   "execution_count": 6,
   "metadata": {},
   "outputs": [
    {
     "output_type": "execute_result",
     "data": {
      "text/plain": [
       "         Unnamed: 0 Turnover ;  Total (State) ;  Total (Industry) ;.1\n",
       "0              Unit                                        $ Millions\n",
       "1       Series Type                               Seasonally Adjusted\n",
       "2         Data Type                                              FLOW\n",
       "3         Frequency                                             Month\n",
       "4  Collection Month                                                 1"
      ],
      "text/html": "<div>\n<style scoped>\n    .dataframe tbody tr th:only-of-type {\n        vertical-align: middle;\n    }\n\n    .dataframe tbody tr th {\n        vertical-align: top;\n    }\n\n    .dataframe thead th {\n        text-align: right;\n    }\n</style>\n<table border=\"1\" class=\"dataframe\">\n  <thead>\n    <tr style=\"text-align: right;\">\n      <th></th>\n      <th>Unnamed: 0</th>\n      <th>Turnover ;  Total (State) ;  Total (Industry) ;.1</th>\n    </tr>\n  </thead>\n  <tbody>\n    <tr>\n      <th>0</th>\n      <td>Unit</td>\n      <td>$ Millions</td>\n    </tr>\n    <tr>\n      <th>1</th>\n      <td>Series Type</td>\n      <td>Seasonally Adjusted</td>\n    </tr>\n    <tr>\n      <th>2</th>\n      <td>Data Type</td>\n      <td>FLOW</td>\n    </tr>\n    <tr>\n      <th>3</th>\n      <td>Frequency</td>\n      <td>Month</td>\n    </tr>\n    <tr>\n      <th>4</th>\n      <td>Collection Month</td>\n      <td>1</td>\n    </tr>\n  </tbody>\n</table>\n</div>"
     },
     "metadata": {},
     "execution_count": 6
    }
   ],
   "source": [
    "# Create a filtered retail dataframe from specific columns\n",
    "retail_columns = [\"Unnamed: 0\", \"Turnover ;  Total (State) ;  Total (Industry) ;.1\"]\n",
    "retail_df = retail_raw[retail_columns].copy()\n",
    "retail_df.head()"
   ]
  },
  {
   "cell_type": "code",
   "execution_count": 7,
   "metadata": {},
   "outputs": [
    {
     "output_type": "execute_result",
     "data": {
      "text/plain": [
       "   Unnamed: 0 Turnover; Total Sales (State); Online Food Retailing ;.1  \\\n",
       "9    Jul-2013                                              139.5         \n",
       "10   Aug-2013                                              146.7         \n",
       "11   Sep-2013                                              139.7         \n",
       "12   Oct-2013                                              127.9         \n",
       "13   Nov-2013                                              138.5         \n",
       "\n",
       "   Turnover; Total Sales (State); Online Non-Food Retailing ;.1  \\\n",
       "9                                               331.4             \n",
       "10                                              329.6             \n",
       "11                                              322.7             \n",
       "12                                              351.6             \n",
       "13                                              388.1             \n",
       "\n",
       "   Turnover Sales; Total (State); Online Total (Industry) ;.1  \n",
       "9                                               470.9          \n",
       "10                                              476.3          \n",
       "11                                              462.4          \n",
       "12                                              479.5          \n",
       "13                                              526.6          "
      ],
      "text/html": "<div>\n<style scoped>\n    .dataframe tbody tr th:only-of-type {\n        vertical-align: middle;\n    }\n\n    .dataframe tbody tr th {\n        vertical-align: top;\n    }\n\n    .dataframe thead th {\n        text-align: right;\n    }\n</style>\n<table border=\"1\" class=\"dataframe\">\n  <thead>\n    <tr style=\"text-align: right;\">\n      <th></th>\n      <th>Unnamed: 0</th>\n      <th>Turnover; Total Sales (State); Online Food Retailing ;.1</th>\n      <th>Turnover; Total Sales (State); Online Non-Food Retailing ;.1</th>\n      <th>Turnover Sales; Total (State); Online Total (Industry) ;.1</th>\n    </tr>\n  </thead>\n  <tbody>\n    <tr>\n      <th>9</th>\n      <td>Jul-2013</td>\n      <td>139.5</td>\n      <td>331.4</td>\n      <td>470.9</td>\n    </tr>\n    <tr>\n      <th>10</th>\n      <td>Aug-2013</td>\n      <td>146.7</td>\n      <td>329.6</td>\n      <td>476.3</td>\n    </tr>\n    <tr>\n      <th>11</th>\n      <td>Sep-2013</td>\n      <td>139.7</td>\n      <td>322.7</td>\n      <td>462.4</td>\n    </tr>\n    <tr>\n      <th>12</th>\n      <td>Oct-2013</td>\n      <td>127.9</td>\n      <td>351.6</td>\n      <td>479.5</td>\n    </tr>\n    <tr>\n      <th>13</th>\n      <td>Nov-2013</td>\n      <td>138.5</td>\n      <td>388.1</td>\n      <td>526.6</td>\n    </tr>\n  </tbody>\n</table>\n</div>"
     },
     "metadata": {},
     "execution_count": 7
    }
   ],
   "source": [
    "# Remove unnecessary rows from online data\n",
    "online_df = online_df.iloc[9:]\n",
    "online_df.head()"
   ]
  },
  {
   "cell_type": "code",
   "execution_count": 8,
   "metadata": {},
   "outputs": [
    {
     "output_type": "execute_result",
     "data": {
      "text/plain": [
       "   Unnamed: 0 Turnover ;  Total (State) ;  Total (Industry) ;.1\n",
       "9    Apr-1982                                            3518.7\n",
       "10   May-1982                                            3527.7\n",
       "11   Jun-1982                                            3561.5\n",
       "12   Jul-1982                                            3553.9\n",
       "13   Aug-1982                                            3581.8"
      ],
      "text/html": "<div>\n<style scoped>\n    .dataframe tbody tr th:only-of-type {\n        vertical-align: middle;\n    }\n\n    .dataframe tbody tr th {\n        vertical-align: top;\n    }\n\n    .dataframe thead th {\n        text-align: right;\n    }\n</style>\n<table border=\"1\" class=\"dataframe\">\n  <thead>\n    <tr style=\"text-align: right;\">\n      <th></th>\n      <th>Unnamed: 0</th>\n      <th>Turnover ;  Total (State) ;  Total (Industry) ;.1</th>\n    </tr>\n  </thead>\n  <tbody>\n    <tr>\n      <th>9</th>\n      <td>Apr-1982</td>\n      <td>3518.7</td>\n    </tr>\n    <tr>\n      <th>10</th>\n      <td>May-1982</td>\n      <td>3527.7</td>\n    </tr>\n    <tr>\n      <th>11</th>\n      <td>Jun-1982</td>\n      <td>3561.5</td>\n    </tr>\n    <tr>\n      <th>12</th>\n      <td>Jul-1982</td>\n      <td>3553.9</td>\n    </tr>\n    <tr>\n      <th>13</th>\n      <td>Aug-1982</td>\n      <td>3581.8</td>\n    </tr>\n  </tbody>\n</table>\n</div>"
     },
     "metadata": {},
     "execution_count": 8
    }
   ],
   "source": [
    "# Remove unnecessary rows from retail data\n",
    "retail_df = retail_df.iloc[9:]\n",
    "retail_df.head()"
   ]
  },
  {
   "cell_type": "code",
   "execution_count": 9,
   "metadata": {},
   "outputs": [
    {
     "output_type": "execute_result",
     "data": {
      "text/plain": [
       "        date online_food_turnover online_nonfood_turnover  \\\n",
       "9   Jul-2013                139.5                   331.4   \n",
       "10  Aug-2013                146.7                   329.6   \n",
       "11  Sep-2013                139.7                   322.7   \n",
       "12  Oct-2013                127.9                   351.6   \n",
       "13  Nov-2013                138.5                   388.1   \n",
       "\n",
       "   online_total_turnover  \n",
       "9                  470.9  \n",
       "10                 476.3  \n",
       "11                 462.4  \n",
       "12                 479.5  \n",
       "13                 526.6  "
      ],
      "text/html": "<div>\n<style scoped>\n    .dataframe tbody tr th:only-of-type {\n        vertical-align: middle;\n    }\n\n    .dataframe tbody tr th {\n        vertical-align: top;\n    }\n\n    .dataframe thead th {\n        text-align: right;\n    }\n</style>\n<table border=\"1\" class=\"dataframe\">\n  <thead>\n    <tr style=\"text-align: right;\">\n      <th></th>\n      <th>date</th>\n      <th>online_food_turnover</th>\n      <th>online_nonfood_turnover</th>\n      <th>online_total_turnover</th>\n    </tr>\n  </thead>\n  <tbody>\n    <tr>\n      <th>9</th>\n      <td>Jul-2013</td>\n      <td>139.5</td>\n      <td>331.4</td>\n      <td>470.9</td>\n    </tr>\n    <tr>\n      <th>10</th>\n      <td>Aug-2013</td>\n      <td>146.7</td>\n      <td>329.6</td>\n      <td>476.3</td>\n    </tr>\n    <tr>\n      <th>11</th>\n      <td>Sep-2013</td>\n      <td>139.7</td>\n      <td>322.7</td>\n      <td>462.4</td>\n    </tr>\n    <tr>\n      <th>12</th>\n      <td>Oct-2013</td>\n      <td>127.9</td>\n      <td>351.6</td>\n      <td>479.5</td>\n    </tr>\n    <tr>\n      <th>13</th>\n      <td>Nov-2013</td>\n      <td>138.5</td>\n      <td>388.1</td>\n      <td>526.6</td>\n    </tr>\n  </tbody>\n</table>\n</div>"
     },
     "metadata": {},
     "execution_count": 9
    }
   ],
   "source": [
    "#Rename columns for online data\n",
    "online_df = online_df.rename(columns={\"Unnamed: 0\": \"date\",\n",
    "                                        \"Turnover; Total Sales (State); Online Food Retailing ;.1\": \"online_food_turnover\",\n",
    "                                        \"Turnover; Total Sales (State); Online Non-Food Retailing ;.1\": \"online_nonfood_turnover\",\n",
    "                                        \"Turnover Sales; Total (State); Online Total (Industry) ;.1\": \"online_total_turnover\"})\n",
    "online_df.head()"
   ]
  },
  {
   "cell_type": "code",
   "execution_count": 10,
   "metadata": {},
   "outputs": [
    {
     "output_type": "execute_result",
     "data": {
      "text/plain": [
       "        date total_revenue_turnover\n",
       "9   Apr-1982                 3518.7\n",
       "10  May-1982                 3527.7\n",
       "11  Jun-1982                 3561.5\n",
       "12  Jul-1982                 3553.9\n",
       "13  Aug-1982                 3581.8"
      ],
      "text/html": "<div>\n<style scoped>\n    .dataframe tbody tr th:only-of-type {\n        vertical-align: middle;\n    }\n\n    .dataframe tbody tr th {\n        vertical-align: top;\n    }\n\n    .dataframe thead th {\n        text-align: right;\n    }\n</style>\n<table border=\"1\" class=\"dataframe\">\n  <thead>\n    <tr style=\"text-align: right;\">\n      <th></th>\n      <th>date</th>\n      <th>total_revenue_turnover</th>\n    </tr>\n  </thead>\n  <tbody>\n    <tr>\n      <th>9</th>\n      <td>Apr-1982</td>\n      <td>3518.7</td>\n    </tr>\n    <tr>\n      <th>10</th>\n      <td>May-1982</td>\n      <td>3527.7</td>\n    </tr>\n    <tr>\n      <th>11</th>\n      <td>Jun-1982</td>\n      <td>3561.5</td>\n    </tr>\n    <tr>\n      <th>12</th>\n      <td>Jul-1982</td>\n      <td>3553.9</td>\n    </tr>\n    <tr>\n      <th>13</th>\n      <td>Aug-1982</td>\n      <td>3581.8</td>\n    </tr>\n  </tbody>\n</table>\n</div>"
     },
     "metadata": {},
     "execution_count": 10
    }
   ],
   "source": [
    "#Rename columns for retail data\n",
    "retail_df = retail_df.rename(columns={\"Unnamed: 0\": \"date\",\n",
    "                                        \"Turnover ;  Total (State) ;  Total (Industry) ;.1\": \"total_revenue_turnover\"})\n",
    "retail_df.head()"
   ]
  },
  {
   "cell_type": "code",
   "execution_count": 11,
   "metadata": {},
   "outputs": [
    {
     "output_type": "execute_result",
     "data": {
      "text/plain": [
       "         date total_revenue_turnover\n",
       "384  Jul-2013                22042.6"
      ],
      "text/html": "<div>\n<style scoped>\n    .dataframe tbody tr th:only-of-type {\n        vertical-align: middle;\n    }\n\n    .dataframe tbody tr th {\n        vertical-align: top;\n    }\n\n    .dataframe thead th {\n        text-align: right;\n    }\n</style>\n<table border=\"1\" class=\"dataframe\">\n  <thead>\n    <tr style=\"text-align: right;\">\n      <th></th>\n      <th>date</th>\n      <th>total_revenue_turnover</th>\n    </tr>\n  </thead>\n  <tbody>\n    <tr>\n      <th>384</th>\n      <td>Jul-2013</td>\n      <td>22042.6</td>\n    </tr>\n  </tbody>\n</table>\n</div>"
     },
     "metadata": {},
     "execution_count": 11
    }
   ],
   "source": [
    "#Look for the row that has July 2013 as its date value\n",
    "retail_df[retail_df[\"date\"] == \"Jul-2013\"]"
   ]
  },
  {
   "cell_type": "code",
   "execution_count": 12,
   "metadata": {},
   "outputs": [
    {
     "output_type": "execute_result",
     "data": {
      "text/plain": [
       "         date total_revenue_turnover\n",
       "384  Jul-2013                22042.6\n",
       "385  Aug-2013                22204.7\n",
       "386  Sep-2013                22356.5\n",
       "387  Oct-2013                22431.6\n",
       "388  Nov-2013                22630.9"
      ],
      "text/html": "<div>\n<style scoped>\n    .dataframe tbody tr th:only-of-type {\n        vertical-align: middle;\n    }\n\n    .dataframe tbody tr th {\n        vertical-align: top;\n    }\n\n    .dataframe thead th {\n        text-align: right;\n    }\n</style>\n<table border=\"1\" class=\"dataframe\">\n  <thead>\n    <tr style=\"text-align: right;\">\n      <th></th>\n      <th>date</th>\n      <th>total_revenue_turnover</th>\n    </tr>\n  </thead>\n  <tbody>\n    <tr>\n      <th>384</th>\n      <td>Jul-2013</td>\n      <td>22042.6</td>\n    </tr>\n    <tr>\n      <th>385</th>\n      <td>Aug-2013</td>\n      <td>22204.7</td>\n    </tr>\n    <tr>\n      <th>386</th>\n      <td>Sep-2013</td>\n      <td>22356.5</td>\n    </tr>\n    <tr>\n      <th>387</th>\n      <td>Oct-2013</td>\n      <td>22431.6</td>\n    </tr>\n    <tr>\n      <th>388</th>\n      <td>Nov-2013</td>\n      <td>22630.9</td>\n    </tr>\n  </tbody>\n</table>\n</div>"
     },
     "metadata": {},
     "execution_count": 12
    }
   ],
   "source": [
    "# Remove all values before July 2013 for retailColumn_df \n",
    "retail_df = retail_df.iloc[375:]\n",
    "retail_df.head()"
   ]
  },
  {
   "cell_type": "code",
   "execution_count": 13,
   "metadata": {},
   "outputs": [
    {
     "output_type": "execute_result",
     "data": {
      "text/plain": [
       "        date online_food_turnover online_nonfood_turnover  \\\n",
       "0   Jul-2013                139.5                   331.4   \n",
       "1   Aug-2013                146.7                   329.6   \n",
       "2   Sep-2013                139.7                   322.7   \n",
       "3   Oct-2013                127.9                   351.6   \n",
       "4   Nov-2013                138.5                   388.1   \n",
       "..       ...                  ...                     ...   \n",
       "87  Oct-2020                866.5                  2215.9   \n",
       "88  Nov-2020                813.1                  2223.3   \n",
       "89  Dec-2020                864.1                  2107.2   \n",
       "90  Jan-2021                903.9                  2117.1   \n",
       "91  Feb-2021                892.8                  2060.6   \n",
       "\n",
       "   online_total_turnover total_revenue_turnover  \n",
       "0                  470.9                22042.6  \n",
       "1                  476.3                22204.7  \n",
       "2                  462.4                22356.5  \n",
       "3                  479.5                22431.6  \n",
       "4                  526.6                22630.9  \n",
       "..                   ...                    ...  \n",
       "87                3082.4                29601.6  \n",
       "88                3036.4                31571.4  \n",
       "89                2971.3                30450.9  \n",
       "90                3021.0                30538.5  \n",
       "91                2953.4                30300.6  \n",
       "\n",
       "[92 rows x 5 columns]"
      ],
      "text/html": "<div>\n<style scoped>\n    .dataframe tbody tr th:only-of-type {\n        vertical-align: middle;\n    }\n\n    .dataframe tbody tr th {\n        vertical-align: top;\n    }\n\n    .dataframe thead th {\n        text-align: right;\n    }\n</style>\n<table border=\"1\" class=\"dataframe\">\n  <thead>\n    <tr style=\"text-align: right;\">\n      <th></th>\n      <th>date</th>\n      <th>online_food_turnover</th>\n      <th>online_nonfood_turnover</th>\n      <th>online_total_turnover</th>\n      <th>total_revenue_turnover</th>\n    </tr>\n  </thead>\n  <tbody>\n    <tr>\n      <th>0</th>\n      <td>Jul-2013</td>\n      <td>139.5</td>\n      <td>331.4</td>\n      <td>470.9</td>\n      <td>22042.6</td>\n    </tr>\n    <tr>\n      <th>1</th>\n      <td>Aug-2013</td>\n      <td>146.7</td>\n      <td>329.6</td>\n      <td>476.3</td>\n      <td>22204.7</td>\n    </tr>\n    <tr>\n      <th>2</th>\n      <td>Sep-2013</td>\n      <td>139.7</td>\n      <td>322.7</td>\n      <td>462.4</td>\n      <td>22356.5</td>\n    </tr>\n    <tr>\n      <th>3</th>\n      <td>Oct-2013</td>\n      <td>127.9</td>\n      <td>351.6</td>\n      <td>479.5</td>\n      <td>22431.6</td>\n    </tr>\n    <tr>\n      <th>4</th>\n      <td>Nov-2013</td>\n      <td>138.5</td>\n      <td>388.1</td>\n      <td>526.6</td>\n      <td>22630.9</td>\n    </tr>\n    <tr>\n      <th>...</th>\n      <td>...</td>\n      <td>...</td>\n      <td>...</td>\n      <td>...</td>\n      <td>...</td>\n    </tr>\n    <tr>\n      <th>87</th>\n      <td>Oct-2020</td>\n      <td>866.5</td>\n      <td>2215.9</td>\n      <td>3082.4</td>\n      <td>29601.6</td>\n    </tr>\n    <tr>\n      <th>88</th>\n      <td>Nov-2020</td>\n      <td>813.1</td>\n      <td>2223.3</td>\n      <td>3036.4</td>\n      <td>31571.4</td>\n    </tr>\n    <tr>\n      <th>89</th>\n      <td>Dec-2020</td>\n      <td>864.1</td>\n      <td>2107.2</td>\n      <td>2971.3</td>\n      <td>30450.9</td>\n    </tr>\n    <tr>\n      <th>90</th>\n      <td>Jan-2021</td>\n      <td>903.9</td>\n      <td>2117.1</td>\n      <td>3021.0</td>\n      <td>30538.5</td>\n    </tr>\n    <tr>\n      <th>91</th>\n      <td>Feb-2021</td>\n      <td>892.8</td>\n      <td>2060.6</td>\n      <td>2953.4</td>\n      <td>30300.6</td>\n    </tr>\n  </tbody>\n</table>\n<p>92 rows × 5 columns</p>\n</div>"
     },
     "metadata": {},
     "execution_count": 13
    }
   ],
   "source": [
    "#Join tables\n",
    "combined_df = pd.merge(online_df, retail_df, on='date')\n",
    "combined_df"
   ]
  },
  {
   "cell_type": "code",
   "execution_count": 14,
   "metadata": {},
   "outputs": [
    {
     "output_type": "execute_result",
     "data": {
      "text/plain": [
       "        date online_food_turnover online_nonfood_turnover  \\\n",
       "0   Jul-2013                139.5                   331.4   \n",
       "1   Aug-2013                146.7                   329.6   \n",
       "2   Sep-2013                139.7                   322.7   \n",
       "3   Oct-2013                127.9                   351.6   \n",
       "4   Nov-2013                138.5                   388.1   \n",
       "..       ...                  ...                     ...   \n",
       "87  Oct-2020                866.5                  2215.9   \n",
       "88  Nov-2020                813.1                  2223.3   \n",
       "89  Dec-2020                864.1                  2107.2   \n",
       "90  Jan-2021                903.9                  2117.1   \n",
       "91  Feb-2021                892.8                  2060.6   \n",
       "\n",
       "   online_total_turnover total_revenue_turnover month  year  \n",
       "0                  470.9                22042.6   Jul  2013  \n",
       "1                  476.3                22204.7   Aug  2013  \n",
       "2                  462.4                22356.5   Sep  2013  \n",
       "3                  479.5                22431.6   Oct  2013  \n",
       "4                  526.6                22630.9   Nov  2013  \n",
       "..                   ...                    ...   ...   ...  \n",
       "87                3082.4                29601.6   Oct  2020  \n",
       "88                3036.4                31571.4   Nov  2020  \n",
       "89                2971.3                30450.9   Dec  2020  \n",
       "90                3021.0                30538.5   Jan  2021  \n",
       "91                2953.4                30300.6   Feb  2021  \n",
       "\n",
       "[92 rows x 7 columns]"
      ],
      "text/html": "<div>\n<style scoped>\n    .dataframe tbody tr th:only-of-type {\n        vertical-align: middle;\n    }\n\n    .dataframe tbody tr th {\n        vertical-align: top;\n    }\n\n    .dataframe thead th {\n        text-align: right;\n    }\n</style>\n<table border=\"1\" class=\"dataframe\">\n  <thead>\n    <tr style=\"text-align: right;\">\n      <th></th>\n      <th>date</th>\n      <th>online_food_turnover</th>\n      <th>online_nonfood_turnover</th>\n      <th>online_total_turnover</th>\n      <th>total_revenue_turnover</th>\n      <th>month</th>\n      <th>year</th>\n    </tr>\n  </thead>\n  <tbody>\n    <tr>\n      <th>0</th>\n      <td>Jul-2013</td>\n      <td>139.5</td>\n      <td>331.4</td>\n      <td>470.9</td>\n      <td>22042.6</td>\n      <td>Jul</td>\n      <td>2013</td>\n    </tr>\n    <tr>\n      <th>1</th>\n      <td>Aug-2013</td>\n      <td>146.7</td>\n      <td>329.6</td>\n      <td>476.3</td>\n      <td>22204.7</td>\n      <td>Aug</td>\n      <td>2013</td>\n    </tr>\n    <tr>\n      <th>2</th>\n      <td>Sep-2013</td>\n      <td>139.7</td>\n      <td>322.7</td>\n      <td>462.4</td>\n      <td>22356.5</td>\n      <td>Sep</td>\n      <td>2013</td>\n    </tr>\n    <tr>\n      <th>3</th>\n      <td>Oct-2013</td>\n      <td>127.9</td>\n      <td>351.6</td>\n      <td>479.5</td>\n      <td>22431.6</td>\n      <td>Oct</td>\n      <td>2013</td>\n    </tr>\n    <tr>\n      <th>4</th>\n      <td>Nov-2013</td>\n      <td>138.5</td>\n      <td>388.1</td>\n      <td>526.6</td>\n      <td>22630.9</td>\n      <td>Nov</td>\n      <td>2013</td>\n    </tr>\n    <tr>\n      <th>...</th>\n      <td>...</td>\n      <td>...</td>\n      <td>...</td>\n      <td>...</td>\n      <td>...</td>\n      <td>...</td>\n      <td>...</td>\n    </tr>\n    <tr>\n      <th>87</th>\n      <td>Oct-2020</td>\n      <td>866.5</td>\n      <td>2215.9</td>\n      <td>3082.4</td>\n      <td>29601.6</td>\n      <td>Oct</td>\n      <td>2020</td>\n    </tr>\n    <tr>\n      <th>88</th>\n      <td>Nov-2020</td>\n      <td>813.1</td>\n      <td>2223.3</td>\n      <td>3036.4</td>\n      <td>31571.4</td>\n      <td>Nov</td>\n      <td>2020</td>\n    </tr>\n    <tr>\n      <th>89</th>\n      <td>Dec-2020</td>\n      <td>864.1</td>\n      <td>2107.2</td>\n      <td>2971.3</td>\n      <td>30450.9</td>\n      <td>Dec</td>\n      <td>2020</td>\n    </tr>\n    <tr>\n      <th>90</th>\n      <td>Jan-2021</td>\n      <td>903.9</td>\n      <td>2117.1</td>\n      <td>3021.0</td>\n      <td>30538.5</td>\n      <td>Jan</td>\n      <td>2021</td>\n    </tr>\n    <tr>\n      <th>91</th>\n      <td>Feb-2021</td>\n      <td>892.8</td>\n      <td>2060.6</td>\n      <td>2953.4</td>\n      <td>30300.6</td>\n      <td>Feb</td>\n      <td>2021</td>\n    </tr>\n  </tbody>\n</table>\n<p>92 rows × 7 columns</p>\n</div>"
     },
     "metadata": {},
     "execution_count": 14
    }
   ],
   "source": [
    "#Split the date column into month and year for easy plotting\n",
    "combined_df[['month','year']] = combined_df.date.str.split(\"-\",expand=True,)\n",
    "combined_df"
   ]
  },
  {
   "cell_type": "code",
   "execution_count": 15,
   "metadata": {},
   "outputs": [
    {
     "output_type": "execute_result",
     "data": {
      "text/plain": [
       "        date  year month online_food_turnover online_nonfood_turnover  \\\n",
       "0   Jul-2013  2013   Jul                139.5                   331.4   \n",
       "1   Aug-2013  2013   Aug                146.7                   329.6   \n",
       "2   Sep-2013  2013   Sep                139.7                   322.7   \n",
       "3   Oct-2013  2013   Oct                127.9                   351.6   \n",
       "4   Nov-2013  2013   Nov                138.5                   388.1   \n",
       "..       ...   ...   ...                  ...                     ...   \n",
       "87  Oct-2020  2020   Oct                866.5                  2215.9   \n",
       "88  Nov-2020  2020   Nov                813.1                  2223.3   \n",
       "89  Dec-2020  2020   Dec                864.1                  2107.2   \n",
       "90  Jan-2021  2021   Jan                903.9                  2117.1   \n",
       "91  Feb-2021  2021   Feb                892.8                  2060.6   \n",
       "\n",
       "   online_total_turnover total_revenue_turnover  \n",
       "0                  470.9                22042.6  \n",
       "1                  476.3                22204.7  \n",
       "2                  462.4                22356.5  \n",
       "3                  479.5                22431.6  \n",
       "4                  526.6                22630.9  \n",
       "..                   ...                    ...  \n",
       "87                3082.4                29601.6  \n",
       "88                3036.4                31571.4  \n",
       "89                2971.3                30450.9  \n",
       "90                3021.0                30538.5  \n",
       "91                2953.4                30300.6  \n",
       "\n",
       "[92 rows x 7 columns]"
      ],
      "text/html": "<div>\n<style scoped>\n    .dataframe tbody tr th:only-of-type {\n        vertical-align: middle;\n    }\n\n    .dataframe tbody tr th {\n        vertical-align: top;\n    }\n\n    .dataframe thead th {\n        text-align: right;\n    }\n</style>\n<table border=\"1\" class=\"dataframe\">\n  <thead>\n    <tr style=\"text-align: right;\">\n      <th></th>\n      <th>date</th>\n      <th>year</th>\n      <th>month</th>\n      <th>online_food_turnover</th>\n      <th>online_nonfood_turnover</th>\n      <th>online_total_turnover</th>\n      <th>total_revenue_turnover</th>\n    </tr>\n  </thead>\n  <tbody>\n    <tr>\n      <th>0</th>\n      <td>Jul-2013</td>\n      <td>2013</td>\n      <td>Jul</td>\n      <td>139.5</td>\n      <td>331.4</td>\n      <td>470.9</td>\n      <td>22042.6</td>\n    </tr>\n    <tr>\n      <th>1</th>\n      <td>Aug-2013</td>\n      <td>2013</td>\n      <td>Aug</td>\n      <td>146.7</td>\n      <td>329.6</td>\n      <td>476.3</td>\n      <td>22204.7</td>\n    </tr>\n    <tr>\n      <th>2</th>\n      <td>Sep-2013</td>\n      <td>2013</td>\n      <td>Sep</td>\n      <td>139.7</td>\n      <td>322.7</td>\n      <td>462.4</td>\n      <td>22356.5</td>\n    </tr>\n    <tr>\n      <th>3</th>\n      <td>Oct-2013</td>\n      <td>2013</td>\n      <td>Oct</td>\n      <td>127.9</td>\n      <td>351.6</td>\n      <td>479.5</td>\n      <td>22431.6</td>\n    </tr>\n    <tr>\n      <th>4</th>\n      <td>Nov-2013</td>\n      <td>2013</td>\n      <td>Nov</td>\n      <td>138.5</td>\n      <td>388.1</td>\n      <td>526.6</td>\n      <td>22630.9</td>\n    </tr>\n    <tr>\n      <th>...</th>\n      <td>...</td>\n      <td>...</td>\n      <td>...</td>\n      <td>...</td>\n      <td>...</td>\n      <td>...</td>\n      <td>...</td>\n    </tr>\n    <tr>\n      <th>87</th>\n      <td>Oct-2020</td>\n      <td>2020</td>\n      <td>Oct</td>\n      <td>866.5</td>\n      <td>2215.9</td>\n      <td>3082.4</td>\n      <td>29601.6</td>\n    </tr>\n    <tr>\n      <th>88</th>\n      <td>Nov-2020</td>\n      <td>2020</td>\n      <td>Nov</td>\n      <td>813.1</td>\n      <td>2223.3</td>\n      <td>3036.4</td>\n      <td>31571.4</td>\n    </tr>\n    <tr>\n      <th>89</th>\n      <td>Dec-2020</td>\n      <td>2020</td>\n      <td>Dec</td>\n      <td>864.1</td>\n      <td>2107.2</td>\n      <td>2971.3</td>\n      <td>30450.9</td>\n    </tr>\n    <tr>\n      <th>90</th>\n      <td>Jan-2021</td>\n      <td>2021</td>\n      <td>Jan</td>\n      <td>903.9</td>\n      <td>2117.1</td>\n      <td>3021.0</td>\n      <td>30538.5</td>\n    </tr>\n    <tr>\n      <th>91</th>\n      <td>Feb-2021</td>\n      <td>2021</td>\n      <td>Feb</td>\n      <td>892.8</td>\n      <td>2060.6</td>\n      <td>2953.4</td>\n      <td>30300.6</td>\n    </tr>\n  </tbody>\n</table>\n<p>92 rows × 7 columns</p>\n</div>"
     },
     "metadata": {},
     "execution_count": 15
    }
   ],
   "source": [
    "# Re-arrange columns\n",
    "combined_df = combined_df[['date', 'year', 'month', 'online_food_turnover', 'online_nonfood_turnover', 'online_total_turnover', 'total_revenue_turnover']]\n",
    "combined_df"
   ]
  },
  {
   "cell_type": "code",
   "execution_count": 16,
   "metadata": {},
   "outputs": [
    {
     "output_type": "execute_result",
     "data": {
      "text/plain": [
       "        date  year month online_food_turnover online_nonfood_turnover  \\\n",
       "78  Jan-2020  2020   Jan                513.8                  1341.3   \n",
       "\n",
       "   online_total_turnover total_revenue_turnover  \n",
       "78                1855.0                27608.3  "
      ],
      "text/html": "<div>\n<style scoped>\n    .dataframe tbody tr th:only-of-type {\n        vertical-align: middle;\n    }\n\n    .dataframe tbody tr th {\n        vertical-align: top;\n    }\n\n    .dataframe thead th {\n        text-align: right;\n    }\n</style>\n<table border=\"1\" class=\"dataframe\">\n  <thead>\n    <tr style=\"text-align: right;\">\n      <th></th>\n      <th>date</th>\n      <th>year</th>\n      <th>month</th>\n      <th>online_food_turnover</th>\n      <th>online_nonfood_turnover</th>\n      <th>online_total_turnover</th>\n      <th>total_revenue_turnover</th>\n    </tr>\n  </thead>\n  <tbody>\n    <tr>\n      <th>78</th>\n      <td>Jan-2020</td>\n      <td>2020</td>\n      <td>Jan</td>\n      <td>513.8</td>\n      <td>1341.3</td>\n      <td>1855.0</td>\n      <td>27608.3</td>\n    </tr>\n  </tbody>\n</table>\n</div>"
     },
     "metadata": {},
     "execution_count": 16
    }
   ],
   "source": [
    "#Look for the row that has Jan 2020 as its date value\n",
    "combined_df[combined_df[\"date\"] == \"Jan-2020\"]"
   ]
  },
  {
   "cell_type": "code",
   "execution_count": 17,
   "metadata": {},
   "outputs": [],
   "source": [
    "# Create data frame pre-covid for regression\n",
    "df_covid = combined_df.iloc[:78,:]\n",
    "\n",
    "# Create data frame post-covid for regression\n",
    "df_post_covid = combined_df.iloc[78:,:]"
   ]
  },
  {
   "cell_type": "code",
   "execution_count": 18,
   "metadata": {},
   "outputs": [
    {
     "output_type": "execute_result",
     "data": {
      "text/plain": [
       "        date  year month online_food_turnover online_nonfood_turnover  \\\n",
       "73  Aug-2019  2019   Aug                461.0                  1287.9   \n",
       "74  Sep-2019  2019   Sep                478.9                  1297.3   \n",
       "75  Oct-2019  2019   Oct                518.8                  1289.3   \n",
       "76  Nov-2019  2019   Nov                493.0                  1325.5   \n",
       "77  Dec-2019  2019   Dec                490.4                  1428.6   \n",
       "\n",
       "   online_total_turnover total_revenue_turnover  \n",
       "73                1749.0                27543.5  \n",
       "74                1776.2                27589.2  \n",
       "75                1808.1                27635.0  \n",
       "76                1818.5                27895.6  \n",
       "77                1919.1                27747.2  "
      ],
      "text/html": "<div>\n<style scoped>\n    .dataframe tbody tr th:only-of-type {\n        vertical-align: middle;\n    }\n\n    .dataframe tbody tr th {\n        vertical-align: top;\n    }\n\n    .dataframe thead th {\n        text-align: right;\n    }\n</style>\n<table border=\"1\" class=\"dataframe\">\n  <thead>\n    <tr style=\"text-align: right;\">\n      <th></th>\n      <th>date</th>\n      <th>year</th>\n      <th>month</th>\n      <th>online_food_turnover</th>\n      <th>online_nonfood_turnover</th>\n      <th>online_total_turnover</th>\n      <th>total_revenue_turnover</th>\n    </tr>\n  </thead>\n  <tbody>\n    <tr>\n      <th>73</th>\n      <td>Aug-2019</td>\n      <td>2019</td>\n      <td>Aug</td>\n      <td>461.0</td>\n      <td>1287.9</td>\n      <td>1749.0</td>\n      <td>27543.5</td>\n    </tr>\n    <tr>\n      <th>74</th>\n      <td>Sep-2019</td>\n      <td>2019</td>\n      <td>Sep</td>\n      <td>478.9</td>\n      <td>1297.3</td>\n      <td>1776.2</td>\n      <td>27589.2</td>\n    </tr>\n    <tr>\n      <th>75</th>\n      <td>Oct-2019</td>\n      <td>2019</td>\n      <td>Oct</td>\n      <td>518.8</td>\n      <td>1289.3</td>\n      <td>1808.1</td>\n      <td>27635.0</td>\n    </tr>\n    <tr>\n      <th>76</th>\n      <td>Nov-2019</td>\n      <td>2019</td>\n      <td>Nov</td>\n      <td>493.0</td>\n      <td>1325.5</td>\n      <td>1818.5</td>\n      <td>27895.6</td>\n    </tr>\n    <tr>\n      <th>77</th>\n      <td>Dec-2019</td>\n      <td>2019</td>\n      <td>Dec</td>\n      <td>490.4</td>\n      <td>1428.6</td>\n      <td>1919.1</td>\n      <td>27747.2</td>\n    </tr>\n  </tbody>\n</table>\n</div>"
     },
     "metadata": {},
     "execution_count": 18
    }
   ],
   "source": [
    "#check dataframe\n",
    "df_covid.tail()"
   ]
  },
  {
   "cell_type": "code",
   "execution_count": 19,
   "metadata": {},
   "outputs": [
    {
     "output_type": "execute_result",
     "data": {
      "text/plain": [
       "        date  year month online_food_turnover online_nonfood_turnover  \\\n",
       "78  Jan-2020  2020   Jan                513.8                  1341.3   \n",
       "79  Feb-2020  2020   Feb                548.5                  1388.1   \n",
       "80  Mar-2020  2020   Mar                525.1                  1673.9   \n",
       "81  Apr-2020  2020   Apr                603.2                  2191.1   \n",
       "82  May-2020  2020   May                713.6                  2157.2   \n",
       "\n",
       "   online_total_turnover total_revenue_turnover  \n",
       "78                1855.0                27608.3  \n",
       "79                1936.6                27775.7  \n",
       "80                2199.0                30033.3  \n",
       "81                2794.3                24816.7  \n",
       "82                2870.7                28940.1  "
      ],
      "text/html": "<div>\n<style scoped>\n    .dataframe tbody tr th:only-of-type {\n        vertical-align: middle;\n    }\n\n    .dataframe tbody tr th {\n        vertical-align: top;\n    }\n\n    .dataframe thead th {\n        text-align: right;\n    }\n</style>\n<table border=\"1\" class=\"dataframe\">\n  <thead>\n    <tr style=\"text-align: right;\">\n      <th></th>\n      <th>date</th>\n      <th>year</th>\n      <th>month</th>\n      <th>online_food_turnover</th>\n      <th>online_nonfood_turnover</th>\n      <th>online_total_turnover</th>\n      <th>total_revenue_turnover</th>\n    </tr>\n  </thead>\n  <tbody>\n    <tr>\n      <th>78</th>\n      <td>Jan-2020</td>\n      <td>2020</td>\n      <td>Jan</td>\n      <td>513.8</td>\n      <td>1341.3</td>\n      <td>1855.0</td>\n      <td>27608.3</td>\n    </tr>\n    <tr>\n      <th>79</th>\n      <td>Feb-2020</td>\n      <td>2020</td>\n      <td>Feb</td>\n      <td>548.5</td>\n      <td>1388.1</td>\n      <td>1936.6</td>\n      <td>27775.7</td>\n    </tr>\n    <tr>\n      <th>80</th>\n      <td>Mar-2020</td>\n      <td>2020</td>\n      <td>Mar</td>\n      <td>525.1</td>\n      <td>1673.9</td>\n      <td>2199.0</td>\n      <td>30033.3</td>\n    </tr>\n    <tr>\n      <th>81</th>\n      <td>Apr-2020</td>\n      <td>2020</td>\n      <td>Apr</td>\n      <td>603.2</td>\n      <td>2191.1</td>\n      <td>2794.3</td>\n      <td>24816.7</td>\n    </tr>\n    <tr>\n      <th>82</th>\n      <td>May-2020</td>\n      <td>2020</td>\n      <td>May</td>\n      <td>713.6</td>\n      <td>2157.2</td>\n      <td>2870.7</td>\n      <td>28940.1</td>\n    </tr>\n  </tbody>\n</table>\n</div>"
     },
     "metadata": {},
     "execution_count": 19
    }
   ],
   "source": [
    "#check dataframe\n",
    "df_post_covid.head()"
   ]
  },
  {
   "cell_type": "markdown",
   "metadata": {},
   "source": [
    "## Save cleaned dataframe as csv file"
   ]
  },
  {
   "cell_type": "code",
   "execution_count": 20,
   "metadata": {},
   "outputs": [],
   "source": [
    "combined_df.to_csv('../resources/data.csv',index = False, header=True)"
   ]
  },
  {
   "cell_type": "code",
   "execution_count": 21,
   "metadata": {},
   "outputs": [],
   "source": [
    "df_covid.to_csv('../resources/covid.csv',index = False, header=True)"
   ]
  },
  {
   "cell_type": "code",
   "execution_count": 22,
   "metadata": {},
   "outputs": [],
   "source": [
    "df_post_covid.to_csv('../resources/predict.csv',index = False, header=True)"
   ]
  },
  {
   "cell_type": "code",
   "execution_count": null,
   "metadata": {},
   "outputs": [],
   "source": []
  }
 ],
 "metadata": {
  "kernelspec": {
   "name": "python3610jvsc74a57bd018e2e335f35a4c4d34cff36871b5d576298c7ae996a33daf743effcf7ec1200d",
   "display_name": "Python 3.6.10 64-bit ('PythonData': conda)"
  },
  "language_info": {
   "codemirror_mode": {
    "name": "ipython",
    "version": 3
   },
   "file_extension": ".py",
   "mimetype": "text/x-python",
   "name": "python",
   "nbconvert_exporter": "python",
   "pygments_lexer": "ipython3",
   "version": "3.6.10"
  },
  "metadata": {
   "interpreter": {
    "hash": "63fd5069d213b44bf678585dea6b12cceca9941eaf7f819626cde1f2670de90d"
   }
  }
 },
 "nbformat": 4,
 "nbformat_minor": 4
}