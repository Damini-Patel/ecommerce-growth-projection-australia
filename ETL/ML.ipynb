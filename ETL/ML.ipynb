{
 "cells": [
  {
   "cell_type": "code",
   "execution_count": 1,
   "metadata": {},
   "outputs": [],
   "source": [
    "# Dependencies\n",
    "import numpy as np\n",
    "import pandas as pd"
   ]
  },
  {
   "cell_type": "code",
   "execution_count": 2,
   "metadata": {},
   "outputs": [
    {
     "output_type": "execute_result",
     "data": {
      "text/plain": [
       "      date  year month  online_food_turnover  online_nonfood_turnover  \\\n",
       "0   Jul-13  2013   Jul                 139.5                    331.4   \n",
       "1   Aug-13  2013   Aug                 146.7                    329.6   \n",
       "2   Sep-13  2013   Sep                 139.7                    322.7   \n",
       "3   Oct-13  2013   Oct                 127.9                    351.6   \n",
       "4   Nov-13  2013   Nov                 138.5                    388.1   \n",
       "..     ...   ...   ...                   ...                      ...   \n",
       "87  Oct-20  2020   Oct                 866.5                   2215.9   \n",
       "88  Nov-20  2020   Nov                 813.1                   2223.3   \n",
       "89  Dec-20  2020   Dec                 864.1                   2107.2   \n",
       "90  Jan-21  2021   Jan                 903.9                   2117.1   \n",
       "91  Feb-21  2021   Feb                 892.8                   2060.6   \n",
       "\n",
       "    online_total_turnover  total_revenue_turnover  \n",
       "0                   470.9                 22042.6  \n",
       "1                   476.3                 22204.7  \n",
       "2                   462.4                 22356.5  \n",
       "3                   479.5                 22431.6  \n",
       "4                   526.6                 22630.9  \n",
       "..                    ...                     ...  \n",
       "87                 3082.4                 29601.6  \n",
       "88                 3036.4                 31571.4  \n",
       "89                 2971.3                 30450.9  \n",
       "90                 3021.0                 30538.5  \n",
       "91                 2953.4                 30300.6  \n",
       "\n",
       "[92 rows x 7 columns]"
      ],
      "text/html": "<div>\n<style scoped>\n    .dataframe tbody tr th:only-of-type {\n        vertical-align: middle;\n    }\n\n    .dataframe tbody tr th {\n        vertical-align: top;\n    }\n\n    .dataframe thead th {\n        text-align: right;\n    }\n</style>\n<table border=\"1\" class=\"dataframe\">\n  <thead>\n    <tr style=\"text-align: right;\">\n      <th></th>\n      <th>date</th>\n      <th>year</th>\n      <th>month</th>\n      <th>online_food_turnover</th>\n      <th>online_nonfood_turnover</th>\n      <th>online_total_turnover</th>\n      <th>total_revenue_turnover</th>\n    </tr>\n  </thead>\n  <tbody>\n    <tr>\n      <th>0</th>\n      <td>Jul-13</td>\n      <td>2013</td>\n      <td>Jul</td>\n      <td>139.5</td>\n      <td>331.4</td>\n      <td>470.9</td>\n      <td>22042.6</td>\n    </tr>\n    <tr>\n      <th>1</th>\n      <td>Aug-13</td>\n      <td>2013</td>\n      <td>Aug</td>\n      <td>146.7</td>\n      <td>329.6</td>\n      <td>476.3</td>\n      <td>22204.7</td>\n    </tr>\n    <tr>\n      <th>2</th>\n      <td>Sep-13</td>\n      <td>2013</td>\n      <td>Sep</td>\n      <td>139.7</td>\n      <td>322.7</td>\n      <td>462.4</td>\n      <td>22356.5</td>\n    </tr>\n    <tr>\n      <th>3</th>\n      <td>Oct-13</td>\n      <td>2013</td>\n      <td>Oct</td>\n      <td>127.9</td>\n      <td>351.6</td>\n      <td>479.5</td>\n      <td>22431.6</td>\n    </tr>\n    <tr>\n      <th>4</th>\n      <td>Nov-13</td>\n      <td>2013</td>\n      <td>Nov</td>\n      <td>138.5</td>\n      <td>388.1</td>\n      <td>526.6</td>\n      <td>22630.9</td>\n    </tr>\n    <tr>\n      <th>...</th>\n      <td>...</td>\n      <td>...</td>\n      <td>...</td>\n      <td>...</td>\n      <td>...</td>\n      <td>...</td>\n      <td>...</td>\n    </tr>\n    <tr>\n      <th>87</th>\n      <td>Oct-20</td>\n      <td>2020</td>\n      <td>Oct</td>\n      <td>866.5</td>\n      <td>2215.9</td>\n      <td>3082.4</td>\n      <td>29601.6</td>\n    </tr>\n    <tr>\n      <th>88</th>\n      <td>Nov-20</td>\n      <td>2020</td>\n      <td>Nov</td>\n      <td>813.1</td>\n      <td>2223.3</td>\n      <td>3036.4</td>\n      <td>31571.4</td>\n    </tr>\n    <tr>\n      <th>89</th>\n      <td>Dec-20</td>\n      <td>2020</td>\n      <td>Dec</td>\n      <td>864.1</td>\n      <td>2107.2</td>\n      <td>2971.3</td>\n      <td>30450.9</td>\n    </tr>\n    <tr>\n      <th>90</th>\n      <td>Jan-21</td>\n      <td>2021</td>\n      <td>Jan</td>\n      <td>903.9</td>\n      <td>2117.1</td>\n      <td>3021.0</td>\n      <td>30538.5</td>\n    </tr>\n    <tr>\n      <th>91</th>\n      <td>Feb-21</td>\n      <td>2021</td>\n      <td>Feb</td>\n      <td>892.8</td>\n      <td>2060.6</td>\n      <td>2953.4</td>\n      <td>30300.6</td>\n    </tr>\n  </tbody>\n</table>\n<p>92 rows × 7 columns</p>\n</div>"
     },
     "metadata": {},
     "execution_count": 2
    }
   ],
   "source": [
    "# Read in csv\n",
    "data = pd.read_csv('resources/data.csv')\n",
    "data.head(100)"
   ]
  },
  {
   "cell_type": "code",
   "execution_count": 3,
   "metadata": {},
   "outputs": [
    {
     "output_type": "execute_result",
     "data": {
      "text/plain": [
       "      date  year month  online_food_turnover  online_nonfood_turnover  \\\n",
       "0   Jul-13  2013   Jul                 139.5                    331.4   \n",
       "1   Aug-13  2013   Aug                 146.7                    329.6   \n",
       "2   Sep-13  2013   Sep                 139.7                    322.7   \n",
       "3   Oct-13  2013   Oct                 127.9                    351.6   \n",
       "4   Nov-13  2013   Nov                 138.5                    388.1   \n",
       "..     ...   ...   ...                   ...                      ...   \n",
       "87  Oct-20  2020   Oct                 866.5                   2215.9   \n",
       "88  Nov-20  2020   Nov                 813.1                   2223.3   \n",
       "89  Dec-20  2020   Dec                 864.1                   2107.2   \n",
       "90  Jan-21  2021   Jan                 903.9                   2117.1   \n",
       "91  Feb-21  2021   Feb                 892.8                   2060.6   \n",
       "\n",
       "    online_total_turnover  total_revenue_turnover  index  \n",
       "0                   470.9                 22042.6      1  \n",
       "1                   476.3                 22204.7      2  \n",
       "2                   462.4                 22356.5      3  \n",
       "3                   479.5                 22431.6      4  \n",
       "4                   526.6                 22630.9      5  \n",
       "..                    ...                     ...    ...  \n",
       "87                 3082.4                 29601.6     88  \n",
       "88                 3036.4                 31571.4     89  \n",
       "89                 2971.3                 30450.9     90  \n",
       "90                 3021.0                 30538.5     91  \n",
       "91                 2953.4                 30300.6     92  \n",
       "\n",
       "[92 rows x 8 columns]"
      ],
      "text/html": "<div>\n<style scoped>\n    .dataframe tbody tr th:only-of-type {\n        vertical-align: middle;\n    }\n\n    .dataframe tbody tr th {\n        vertical-align: top;\n    }\n\n    .dataframe thead th {\n        text-align: right;\n    }\n</style>\n<table border=\"1\" class=\"dataframe\">\n  <thead>\n    <tr style=\"text-align: right;\">\n      <th></th>\n      <th>date</th>\n      <th>year</th>\n      <th>month</th>\n      <th>online_food_turnover</th>\n      <th>online_nonfood_turnover</th>\n      <th>online_total_turnover</th>\n      <th>total_revenue_turnover</th>\n      <th>index</th>\n    </tr>\n  </thead>\n  <tbody>\n    <tr>\n      <th>0</th>\n      <td>Jul-13</td>\n      <td>2013</td>\n      <td>Jul</td>\n      <td>139.5</td>\n      <td>331.4</td>\n      <td>470.9</td>\n      <td>22042.6</td>\n      <td>1</td>\n    </tr>\n    <tr>\n      <th>1</th>\n      <td>Aug-13</td>\n      <td>2013</td>\n      <td>Aug</td>\n      <td>146.7</td>\n      <td>329.6</td>\n      <td>476.3</td>\n      <td>22204.7</td>\n      <td>2</td>\n    </tr>\n    <tr>\n      <th>2</th>\n      <td>Sep-13</td>\n      <td>2013</td>\n      <td>Sep</td>\n      <td>139.7</td>\n      <td>322.7</td>\n      <td>462.4</td>\n      <td>22356.5</td>\n      <td>3</td>\n    </tr>\n    <tr>\n      <th>3</th>\n      <td>Oct-13</td>\n      <td>2013</td>\n      <td>Oct</td>\n      <td>127.9</td>\n      <td>351.6</td>\n      <td>479.5</td>\n      <td>22431.6</td>\n      <td>4</td>\n    </tr>\n    <tr>\n      <th>4</th>\n      <td>Nov-13</td>\n      <td>2013</td>\n      <td>Nov</td>\n      <td>138.5</td>\n      <td>388.1</td>\n      <td>526.6</td>\n      <td>22630.9</td>\n      <td>5</td>\n    </tr>\n    <tr>\n      <th>...</th>\n      <td>...</td>\n      <td>...</td>\n      <td>...</td>\n      <td>...</td>\n      <td>...</td>\n      <td>...</td>\n      <td>...</td>\n      <td>...</td>\n    </tr>\n    <tr>\n      <th>87</th>\n      <td>Oct-20</td>\n      <td>2020</td>\n      <td>Oct</td>\n      <td>866.5</td>\n      <td>2215.9</td>\n      <td>3082.4</td>\n      <td>29601.6</td>\n      <td>88</td>\n    </tr>\n    <tr>\n      <th>88</th>\n      <td>Nov-20</td>\n      <td>2020</td>\n      <td>Nov</td>\n      <td>813.1</td>\n      <td>2223.3</td>\n      <td>3036.4</td>\n      <td>31571.4</td>\n      <td>89</td>\n    </tr>\n    <tr>\n      <th>89</th>\n      <td>Dec-20</td>\n      <td>2020</td>\n      <td>Dec</td>\n      <td>864.1</td>\n      <td>2107.2</td>\n      <td>2971.3</td>\n      <td>30450.9</td>\n      <td>90</td>\n    </tr>\n    <tr>\n      <th>90</th>\n      <td>Jan-21</td>\n      <td>2021</td>\n      <td>Jan</td>\n      <td>903.9</td>\n      <td>2117.1</td>\n      <td>3021.0</td>\n      <td>30538.5</td>\n      <td>91</td>\n    </tr>\n    <tr>\n      <th>91</th>\n      <td>Feb-21</td>\n      <td>2021</td>\n      <td>Feb</td>\n      <td>892.8</td>\n      <td>2060.6</td>\n      <td>2953.4</td>\n      <td>30300.6</td>\n      <td>92</td>\n    </tr>\n  </tbody>\n</table>\n<p>92 rows × 8 columns</p>\n</div>"
     },
     "metadata": {},
     "execution_count": 3
    }
   ],
   "source": [
    "# Create new column for index so that regression can be done\n",
    "data['index'] = range(1, len(data) + 1)\n",
    "data.head(100)"
   ]
  },
  {
   "cell_type": "code",
   "execution_count": 4,
   "metadata": {},
   "outputs": [
    {
     "output_type": "stream",
     "name": "stdout",
     "text": [
      "Shape:  (92, 1) (92, 1)\n"
     ]
    },
    {
     "output_type": "execute_result",
     "data": {
      "text/plain": [
       "array([[ 0],\n",
       "       [ 1],\n",
       "       [ 2],\n",
       "       [ 3],\n",
       "       [ 4],\n",
       "       [ 5],\n",
       "       [ 6],\n",
       "       [ 7],\n",
       "       [ 8],\n",
       "       [ 9],\n",
       "       [10],\n",
       "       [11],\n",
       "       [12],\n",
       "       [13],\n",
       "       [14],\n",
       "       [15],\n",
       "       [16],\n",
       "       [17],\n",
       "       [18],\n",
       "       [19],\n",
       "       [20],\n",
       "       [21],\n",
       "       [22],\n",
       "       [23],\n",
       "       [24],\n",
       "       [25],\n",
       "       [26],\n",
       "       [27],\n",
       "       [28],\n",
       "       [29],\n",
       "       [30],\n",
       "       [31],\n",
       "       [32],\n",
       "       [33],\n",
       "       [34],\n",
       "       [35],\n",
       "       [36],\n",
       "       [37],\n",
       "       [38],\n",
       "       [39],\n",
       "       [40],\n",
       "       [41],\n",
       "       [42],\n",
       "       [43],\n",
       "       [44],\n",
       "       [45],\n",
       "       [46],\n",
       "       [47],\n",
       "       [48],\n",
       "       [49],\n",
       "       [50],\n",
       "       [51],\n",
       "       [52],\n",
       "       [53],\n",
       "       [54],\n",
       "       [55],\n",
       "       [56],\n",
       "       [57],\n",
       "       [58],\n",
       "       [59],\n",
       "       [60],\n",
       "       [61],\n",
       "       [62],\n",
       "       [63],\n",
       "       [64],\n",
       "       [65],\n",
       "       [66],\n",
       "       [67],\n",
       "       [68],\n",
       "       [69],\n",
       "       [70],\n",
       "       [71],\n",
       "       [72],\n",
       "       [73],\n",
       "       [74],\n",
       "       [75],\n",
       "       [76],\n",
       "       [77],\n",
       "       [78],\n",
       "       [79],\n",
       "       [80],\n",
       "       [81],\n",
       "       [82],\n",
       "       [83],\n",
       "       [84],\n",
       "       [85],\n",
       "       [86],\n",
       "       [87],\n",
       "       [88],\n",
       "       [89],\n",
       "       [90],\n",
       "       [91]], dtype=int64)"
      ]
     },
     "metadata": {},
     "execution_count": 4
    }
   ],
   "source": [
    "# Assign the data to X and y\n",
    "# Note: Sklearn requires a two-dimensional array of values\n",
    "# so we use reshape to create this\n",
    "\n",
    "X = data.index.values.reshape(-1, 1)\n",
    "y = data.online_total_turnover.values.reshape(-1, 1)\n",
    "\n",
    "print(\"Shape: \", X.shape, y.shape)\n",
    "X"
   ]
  },
  {
   "cell_type": "code",
   "execution_count": 5,
   "metadata": {},
   "outputs": [],
   "source": [
    "# Create the model and fit the model to the data\n",
    "from sklearn.linear_model import LinearRegression\n",
    "\n",
    "model = LinearRegression()"
   ]
  },
  {
   "cell_type": "code",
   "execution_count": 6,
   "metadata": {},
   "outputs": [
    {
     "output_type": "execute_result",
     "data": {
      "text/plain": [
       "LinearRegression()"
      ]
     },
     "metadata": {},
     "execution_count": 6
    }
   ],
   "source": [
    "# Fit the model to the data. \n",
    "# Note: This is the training step where you fit the line to the data.\n",
    "\n",
    "model.fit(X, y)"
   ]
  },
  {
   "cell_type": "code",
   "execution_count": 7,
   "metadata": {},
   "outputs": [
    {
     "output_type": "stream",
     "name": "stdout",
     "text": [
      "Weight coefficients:  [[25.80915571]]\ny-axis intercept:  [138.07363254]\n"
     ]
    }
   ],
   "source": [
    "# Print the coefficient and the intercept for the model\n",
    "print('Weight coefficients: ', model.coef_)\n",
    "print('y-axis intercept: ', model.intercept_)"
   ]
  },
  {
   "cell_type": "code",
   "execution_count": 8,
   "metadata": {},
   "outputs": [
    {
     "output_type": "stream",
     "name": "stdout",
     "text": [
      "Min X Value: [[0]]\nMax X Value: [[91]]\n"
     ]
    }
   ],
   "source": [
    "# Note: we have to transform our min and max values \n",
    "# so they are in the format: array([[ 1.17]])\n",
    "# This is the required format for `model.predict()`\n",
    "x_min = np.array([[X.min()]])\n",
    "x_max = np.array([[X.max()]])\n",
    "print(f\"Min X Value: {x_min}\")\n",
    "print(f\"Max X Value: {x_max}\")"
   ]
  },
  {
   "cell_type": "code",
   "execution_count": 22,
   "metadata": {},
   "outputs": [
    {
     "output_type": "execute_result",
     "data": {
      "text/plain": [
       "array([[2538.32511367],\n",
       "       [2564.13426938],\n",
       "       [2589.94342509],\n",
       "       [2615.7525808 ]])"
      ]
     },
     "metadata": {},
     "execution_count": 22
    }
   ],
   "source": [
    "# Calculate the y_min and y_max using model.predict and x_min and x_max\n",
    "y_min = model.predict(x_min)\n",
    "y_max_p = model.predict( [[93],[94],[95],[96]])\n",
    "y_max_p"
   ]
  },
  {
   "cell_type": "code",
   "execution_count": 10,
   "metadata": {},
   "outputs": [
    {
     "output_type": "stream",
     "name": "stdout",
     "text": [
      "Min y Value: [[138.07363254]]\nMax y Value: [[2486.70680224]]\n"
     ]
    }
   ],
   "source": [
    "print(f\"Min y Value: {y_min}\")\n",
    "print(f\"Max y Value: {y_max}\")"
   ]
  },
  {
   "cell_type": "code",
   "execution_count": null,
   "metadata": {},
   "outputs": [],
   "source": []
  },
  {
   "cell_type": "code",
   "execution_count": null,
   "metadata": {},
   "outputs": [],
   "source": []
  },
  {
   "cell_type": "code",
   "execution_count": null,
   "metadata": {},
   "outputs": [],
   "source": []
  }
 ],
 "metadata": {
  "kernelspec": {
   "name": "python3613jvsc74a57bd0c7cfa998c7c129bfbc9bcaf6ae862339b671c75137881111c79ca1714e07a0b8",
   "display_name": "Python 3.6.13 64-bit ('PythonAdv': conda)"
  }
 },
 "nbformat": 4,
 "nbformat_minor": 4
}