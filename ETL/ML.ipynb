{
 "cells": [
  {
   "cell_type": "code",
   "execution_count": 1,
   "metadata": {},
   "outputs": [],
   "source": [
    "# Dependencies\n",
    "import numpy as np\n",
    "import pandas as pd"
   ]
  },
  {
   "cell_type": "code",
   "execution_count": 2,
   "metadata": {},
   "outputs": [
    {
     "output_type": "execute_result",
     "data": {
      "text/plain": [
       "       date  year month  online_food_turnover  online_nonfood_turnover  \\\n",
       "0  Jul-2013  2013   Jul                 139.5                    331.4   \n",
       "1  Aug-2013  2013   Aug                 146.7                    329.6   \n",
       "2  Sep-2013  2013   Sep                 139.7                    322.7   \n",
       "3  Oct-2013  2013   Oct                 127.9                    351.6   \n",
       "4  Nov-2013  2013   Nov                 138.5                    388.1   \n",
       "\n",
       "   online_total_turnover  total_revenue_turnover  \n",
       "0                  470.9                 22042.6  \n",
       "1                  476.3                 22204.7  \n",
       "2                  462.4                 22356.5  \n",
       "3                  479.5                 22431.6  \n",
       "4                  526.6                 22630.9  "
      ],
      "text/html": "<div>\n<style scoped>\n    .dataframe tbody tr th:only-of-type {\n        vertical-align: middle;\n    }\n\n    .dataframe tbody tr th {\n        vertical-align: top;\n    }\n\n    .dataframe thead th {\n        text-align: right;\n    }\n</style>\n<table border=\"1\" class=\"dataframe\">\n  <thead>\n    <tr style=\"text-align: right;\">\n      <th></th>\n      <th>date</th>\n      <th>year</th>\n      <th>month</th>\n      <th>online_food_turnover</th>\n      <th>online_nonfood_turnover</th>\n      <th>online_total_turnover</th>\n      <th>total_revenue_turnover</th>\n    </tr>\n  </thead>\n  <tbody>\n    <tr>\n      <th>0</th>\n      <td>Jul-2013</td>\n      <td>2013</td>\n      <td>Jul</td>\n      <td>139.5</td>\n      <td>331.4</td>\n      <td>470.9</td>\n      <td>22042.6</td>\n    </tr>\n    <tr>\n      <th>1</th>\n      <td>Aug-2013</td>\n      <td>2013</td>\n      <td>Aug</td>\n      <td>146.7</td>\n      <td>329.6</td>\n      <td>476.3</td>\n      <td>22204.7</td>\n    </tr>\n    <tr>\n      <th>2</th>\n      <td>Sep-2013</td>\n      <td>2013</td>\n      <td>Sep</td>\n      <td>139.7</td>\n      <td>322.7</td>\n      <td>462.4</td>\n      <td>22356.5</td>\n    </tr>\n    <tr>\n      <th>3</th>\n      <td>Oct-2013</td>\n      <td>2013</td>\n      <td>Oct</td>\n      <td>127.9</td>\n      <td>351.6</td>\n      <td>479.5</td>\n      <td>22431.6</td>\n    </tr>\n    <tr>\n      <th>4</th>\n      <td>Nov-2013</td>\n      <td>2013</td>\n      <td>Nov</td>\n      <td>138.5</td>\n      <td>388.1</td>\n      <td>526.6</td>\n      <td>22630.9</td>\n    </tr>\n  </tbody>\n</table>\n</div>"
     },
     "metadata": {},
     "execution_count": 2
    }
   ],
   "source": [
    "# Read in csv\n",
    "data = pd.read_csv('resources/data.csv')\n",
    "data.head()"
   ]
  },
  {
   "cell_type": "code",
   "execution_count": 3,
   "metadata": {},
   "outputs": [
    {
     "output_type": "execute_result",
     "data": {
      "text/plain": [
       "       date  year month  online_food_turnover  online_nonfood_turnover  \\\n",
       "0  Jul-2013  2013   Jul                 139.5                    331.4   \n",
       "1  Aug-2013  2013   Aug                 146.7                    329.6   \n",
       "2  Sep-2013  2013   Sep                 139.7                    322.7   \n",
       "3  Oct-2013  2013   Oct                 127.9                    351.6   \n",
       "4  Nov-2013  2013   Nov                 138.5                    388.1   \n",
       "\n",
       "   online_total_turnover  total_revenue_turnover  \n",
       "0                  470.9                 22042.6  \n",
       "1                  476.3                 22204.7  \n",
       "2                  462.4                 22356.5  \n",
       "3                  479.5                 22431.6  \n",
       "4                  526.6                 22630.9  "
      ],
      "text/html": "<div>\n<style scoped>\n    .dataframe tbody tr th:only-of-type {\n        vertical-align: middle;\n    }\n\n    .dataframe tbody tr th {\n        vertical-align: top;\n    }\n\n    .dataframe thead th {\n        text-align: right;\n    }\n</style>\n<table border=\"1\" class=\"dataframe\">\n  <thead>\n    <tr style=\"text-align: right;\">\n      <th></th>\n      <th>date</th>\n      <th>year</th>\n      <th>month</th>\n      <th>online_food_turnover</th>\n      <th>online_nonfood_turnover</th>\n      <th>online_total_turnover</th>\n      <th>total_revenue_turnover</th>\n    </tr>\n  </thead>\n  <tbody>\n    <tr>\n      <th>0</th>\n      <td>Jul-2013</td>\n      <td>2013</td>\n      <td>Jul</td>\n      <td>139.5</td>\n      <td>331.4</td>\n      <td>470.9</td>\n      <td>22042.6</td>\n    </tr>\n    <tr>\n      <th>1</th>\n      <td>Aug-2013</td>\n      <td>2013</td>\n      <td>Aug</td>\n      <td>146.7</td>\n      <td>329.6</td>\n      <td>476.3</td>\n      <td>22204.7</td>\n    </tr>\n    <tr>\n      <th>2</th>\n      <td>Sep-2013</td>\n      <td>2013</td>\n      <td>Sep</td>\n      <td>139.7</td>\n      <td>322.7</td>\n      <td>462.4</td>\n      <td>22356.5</td>\n    </tr>\n    <tr>\n      <th>3</th>\n      <td>Oct-2013</td>\n      <td>2013</td>\n      <td>Oct</td>\n      <td>127.9</td>\n      <td>351.6</td>\n      <td>479.5</td>\n      <td>22431.6</td>\n    </tr>\n    <tr>\n      <th>4</th>\n      <td>Nov-2013</td>\n      <td>2013</td>\n      <td>Nov</td>\n      <td>138.5</td>\n      <td>388.1</td>\n      <td>526.6</td>\n      <td>22630.9</td>\n    </tr>\n  </tbody>\n</table>\n</div>"
     },
     "metadata": {},
     "execution_count": 3
    }
   ],
   "source": [
    "# Read in csv\n",
    "precovid = pd.read_csv('resources/covid.csv')\n",
    "precovid.head()"
   ]
  },
  {
   "cell_type": "code",
   "execution_count": 4,
   "metadata": {},
   "outputs": [
    {
     "output_type": "execute_result",
     "data": {
      "text/plain": [
       "       date  year month  online_food_turnover  online_nonfood_turnover  \\\n",
       "0  Jan-2020  2020   Jan                 513.8                   1341.3   \n",
       "1  Feb-2020  2020   Feb                 548.5                   1388.1   \n",
       "2  Mar-2020  2020   Mar                 525.1                   1673.9   \n",
       "3  Apr-2020  2020   Apr                 603.2                   2191.1   \n",
       "4  May-2020  2020   May                 713.6                   2157.2   \n",
       "\n",
       "   online_total_turnover  total_revenue_turnover  \n",
       "0                 1855.0                 27608.3  \n",
       "1                 1936.6                 27775.7  \n",
       "2                 2199.0                 30033.3  \n",
       "3                 2794.3                 24816.7  \n",
       "4                 2870.7                 28940.1  "
      ],
      "text/html": "<div>\n<style scoped>\n    .dataframe tbody tr th:only-of-type {\n        vertical-align: middle;\n    }\n\n    .dataframe tbody tr th {\n        vertical-align: top;\n    }\n\n    .dataframe thead th {\n        text-align: right;\n    }\n</style>\n<table border=\"1\" class=\"dataframe\">\n  <thead>\n    <tr style=\"text-align: right;\">\n      <th></th>\n      <th>date</th>\n      <th>year</th>\n      <th>month</th>\n      <th>online_food_turnover</th>\n      <th>online_nonfood_turnover</th>\n      <th>online_total_turnover</th>\n      <th>total_revenue_turnover</th>\n    </tr>\n  </thead>\n  <tbody>\n    <tr>\n      <th>0</th>\n      <td>Jan-2020</td>\n      <td>2020</td>\n      <td>Jan</td>\n      <td>513.8</td>\n      <td>1341.3</td>\n      <td>1855.0</td>\n      <td>27608.3</td>\n    </tr>\n    <tr>\n      <th>1</th>\n      <td>Feb-2020</td>\n      <td>2020</td>\n      <td>Feb</td>\n      <td>548.5</td>\n      <td>1388.1</td>\n      <td>1936.6</td>\n      <td>27775.7</td>\n    </tr>\n    <tr>\n      <th>2</th>\n      <td>Mar-2020</td>\n      <td>2020</td>\n      <td>Mar</td>\n      <td>525.1</td>\n      <td>1673.9</td>\n      <td>2199.0</td>\n      <td>30033.3</td>\n    </tr>\n    <tr>\n      <th>3</th>\n      <td>Apr-2020</td>\n      <td>2020</td>\n      <td>Apr</td>\n      <td>603.2</td>\n      <td>2191.1</td>\n      <td>2794.3</td>\n      <td>24816.7</td>\n    </tr>\n    <tr>\n      <th>4</th>\n      <td>May-2020</td>\n      <td>2020</td>\n      <td>May</td>\n      <td>713.6</td>\n      <td>2157.2</td>\n      <td>2870.7</td>\n      <td>28940.1</td>\n    </tr>\n  </tbody>\n</table>\n</div>"
     },
     "metadata": {},
     "execution_count": 4
    }
   ],
   "source": [
    "# Read in csv\n",
    "postcovid = pd.read_csv('resources/predict.csv')\n",
    "postcovid.head()"
   ]
  },
  {
   "cell_type": "code",
   "execution_count": 5,
   "metadata": {},
   "outputs": [
    {
     "output_type": "execute_result",
     "data": {
      "text/plain": [
       "       date  year month  online_food_turnover  online_nonfood_turnover  \\\n",
       "0  Jul-2013  2013   Jul                 139.5                    331.4   \n",
       "1  Aug-2013  2013   Aug                 146.7                    329.6   \n",
       "2  Sep-2013  2013   Sep                 139.7                    322.7   \n",
       "3  Oct-2013  2013   Oct                 127.9                    351.6   \n",
       "4  Nov-2013  2013   Nov                 138.5                    388.1   \n",
       "\n",
       "   online_total_turnover  total_revenue_turnover  index  \n",
       "0                  470.9                 22042.6      1  \n",
       "1                  476.3                 22204.7      2  \n",
       "2                  462.4                 22356.5      3  \n",
       "3                  479.5                 22431.6      4  \n",
       "4                  526.6                 22630.9      5  "
      ],
      "text/html": "<div>\n<style scoped>\n    .dataframe tbody tr th:only-of-type {\n        vertical-align: middle;\n    }\n\n    .dataframe tbody tr th {\n        vertical-align: top;\n    }\n\n    .dataframe thead th {\n        text-align: right;\n    }\n</style>\n<table border=\"1\" class=\"dataframe\">\n  <thead>\n    <tr style=\"text-align: right;\">\n      <th></th>\n      <th>date</th>\n      <th>year</th>\n      <th>month</th>\n      <th>online_food_turnover</th>\n      <th>online_nonfood_turnover</th>\n      <th>online_total_turnover</th>\n      <th>total_revenue_turnover</th>\n      <th>index</th>\n    </tr>\n  </thead>\n  <tbody>\n    <tr>\n      <th>0</th>\n      <td>Jul-2013</td>\n      <td>2013</td>\n      <td>Jul</td>\n      <td>139.5</td>\n      <td>331.4</td>\n      <td>470.9</td>\n      <td>22042.6</td>\n      <td>1</td>\n    </tr>\n    <tr>\n      <th>1</th>\n      <td>Aug-2013</td>\n      <td>2013</td>\n      <td>Aug</td>\n      <td>146.7</td>\n      <td>329.6</td>\n      <td>476.3</td>\n      <td>22204.7</td>\n      <td>2</td>\n    </tr>\n    <tr>\n      <th>2</th>\n      <td>Sep-2013</td>\n      <td>2013</td>\n      <td>Sep</td>\n      <td>139.7</td>\n      <td>322.7</td>\n      <td>462.4</td>\n      <td>22356.5</td>\n      <td>3</td>\n    </tr>\n    <tr>\n      <th>3</th>\n      <td>Oct-2013</td>\n      <td>2013</td>\n      <td>Oct</td>\n      <td>127.9</td>\n      <td>351.6</td>\n      <td>479.5</td>\n      <td>22431.6</td>\n      <td>4</td>\n    </tr>\n    <tr>\n      <th>4</th>\n      <td>Nov-2013</td>\n      <td>2013</td>\n      <td>Nov</td>\n      <td>138.5</td>\n      <td>388.1</td>\n      <td>526.6</td>\n      <td>22630.9</td>\n      <td>5</td>\n    </tr>\n  </tbody>\n</table>\n</div>"
     },
     "metadata": {},
     "execution_count": 5
    }
   ],
   "source": [
    "# Create new column for index so that regression can be done\n",
    "precovid['index'] = range(1, len(precovid) + 1)\n",
    "precovid.head()"
   ]
  },
  {
   "cell_type": "code",
   "execution_count": 6,
   "metadata": {},
   "outputs": [
    {
     "output_type": "execute_result",
     "data": {
      "text/plain": [
       "       date  year month  online_food_turnover  online_nonfood_turnover  \\\n",
       "0  Jan-2020  2020   Jan                 513.8                   1341.3   \n",
       "1  Feb-2020  2020   Feb                 548.5                   1388.1   \n",
       "2  Mar-2020  2020   Mar                 525.1                   1673.9   \n",
       "3  Apr-2020  2020   Apr                 603.2                   2191.1   \n",
       "4  May-2020  2020   May                 713.6                   2157.2   \n",
       "\n",
       "   online_total_turnover  total_revenue_turnover  index  \n",
       "0                 1855.0                 27608.3      1  \n",
       "1                 1936.6                 27775.7      2  \n",
       "2                 2199.0                 30033.3      3  \n",
       "3                 2794.3                 24816.7      4  \n",
       "4                 2870.7                 28940.1      5  "
      ],
      "text/html": "<div>\n<style scoped>\n    .dataframe tbody tr th:only-of-type {\n        vertical-align: middle;\n    }\n\n    .dataframe tbody tr th {\n        vertical-align: top;\n    }\n\n    .dataframe thead th {\n        text-align: right;\n    }\n</style>\n<table border=\"1\" class=\"dataframe\">\n  <thead>\n    <tr style=\"text-align: right;\">\n      <th></th>\n      <th>date</th>\n      <th>year</th>\n      <th>month</th>\n      <th>online_food_turnover</th>\n      <th>online_nonfood_turnover</th>\n      <th>online_total_turnover</th>\n      <th>total_revenue_turnover</th>\n      <th>index</th>\n    </tr>\n  </thead>\n  <tbody>\n    <tr>\n      <th>0</th>\n      <td>Jan-2020</td>\n      <td>2020</td>\n      <td>Jan</td>\n      <td>513.8</td>\n      <td>1341.3</td>\n      <td>1855.0</td>\n      <td>27608.3</td>\n      <td>1</td>\n    </tr>\n    <tr>\n      <th>1</th>\n      <td>Feb-2020</td>\n      <td>2020</td>\n      <td>Feb</td>\n      <td>548.5</td>\n      <td>1388.1</td>\n      <td>1936.6</td>\n      <td>27775.7</td>\n      <td>2</td>\n    </tr>\n    <tr>\n      <th>2</th>\n      <td>Mar-2020</td>\n      <td>2020</td>\n      <td>Mar</td>\n      <td>525.1</td>\n      <td>1673.9</td>\n      <td>2199.0</td>\n      <td>30033.3</td>\n      <td>3</td>\n    </tr>\n    <tr>\n      <th>3</th>\n      <td>Apr-2020</td>\n      <td>2020</td>\n      <td>Apr</td>\n      <td>603.2</td>\n      <td>2191.1</td>\n      <td>2794.3</td>\n      <td>24816.7</td>\n      <td>4</td>\n    </tr>\n    <tr>\n      <th>4</th>\n      <td>May-2020</td>\n      <td>2020</td>\n      <td>May</td>\n      <td>713.6</td>\n      <td>2157.2</td>\n      <td>2870.7</td>\n      <td>28940.1</td>\n      <td>5</td>\n    </tr>\n  </tbody>\n</table>\n</div>"
     },
     "metadata": {},
     "execution_count": 6
    }
   ],
   "source": [
    "# Create new column for index so that regression can be done\n",
    "postcovid['index'] = range(1, len(postcovid) + 1)\n",
    "postcovid.head()"
   ]
  },
  {
   "cell_type": "code",
   "execution_count": 7,
   "metadata": {},
   "outputs": [],
   "source": [
    "# Create the model and fit the model to the data\n",
    "from sklearn.linear_model import LinearRegression\n",
    "model = LinearRegression()"
   ]
  },
  {
   "source": [
    "## Get values for total online revenue"
   ],
   "cell_type": "markdown",
   "metadata": {}
  },
  {
   "source": [
    "### Pre-covid data"
   ],
   "cell_type": "markdown",
   "metadata": {}
  },
  {
   "cell_type": "code",
   "execution_count": 8,
   "metadata": {},
   "outputs": [],
   "source": [
    "# Assign the data to X and y\n",
    "# Note: Sklearn requires a two-dimensional array of values\n",
    "# so we use reshape to create this\n",
    "\n",
    "X = precovid.index.values.reshape(-1, 1)\n",
    "y = precovid.online_total_turnover.values.reshape(-1, 1)"
   ]
  },
  {
   "cell_type": "code",
   "execution_count": 9,
   "metadata": {},
   "outputs": [
    {
     "output_type": "stream",
     "name": "stdout",
     "text": [
      "Weight coefficients:  [[18.23442633]]\ny-axis intercept:  [349.74125284]\n"
     ]
    }
   ],
   "source": [
    "# Fit the model to the data. \n",
    "# Note: This is the training step where you fit the line to the data.\n",
    "model.fit(X, y)\n",
    "\n",
    "# Print the coefficient and the intercept for the model\n",
    "print('Weight coefficients: ', model.coef_)\n",
    "print('y-axis intercept: ', model.intercept_)"
   ]
  },
  {
   "cell_type": "code",
   "execution_count": 10,
   "metadata": {},
   "outputs": [
    {
     "output_type": "stream",
     "name": "stdout",
     "text": [
      "Min X Value: [[0]]\nMax X Value: [[77]]\n"
     ]
    }
   ],
   "source": [
    "# Note: we have to transform our min and max values \n",
    "# so they are in the format: array([[ 1.17]])\n",
    "# This is the required format for `model.predict()`\n",
    "x_min = np.array([[X.min()]])\n",
    "x_max = np.array([[X.max()]])\n",
    "print(f\"Min X Value: {x_min}\")\n",
    "print(f\"Max X Value: {x_max}\")"
   ]
  },
  {
   "cell_type": "code",
   "execution_count": 11,
   "metadata": {},
   "outputs": [
    {
     "output_type": "stream",
     "name": "stdout",
     "text": [
      "Min y Value: [[349.74125284]]\nMax y Value: [[1753.79208049]]\n"
     ]
    }
   ],
   "source": [
    "# Calculate the y_min and y_max using model.predict and x_min and x_max\n",
    "y_min = model.predict(x_min)\n",
    "y_max = model.predict(x_max)\n",
    "print(f\"Min y Value: {y_min}\")\n",
    "print(f\"Max y Value: {y_max}\")"
   ]
  },
  {
   "source": [
    "### Post-covid data"
   ],
   "cell_type": "markdown",
   "metadata": {}
  },
  {
   "cell_type": "code",
   "execution_count": 12,
   "metadata": {},
   "outputs": [],
   "source": [
    "# Assign the data to X and y\n",
    "# Note: Sklearn requires a two-dimensional array of values\n",
    "# so we use reshape to create this\n",
    "\n",
    "X = postcovid.index.values.reshape(-1, 1)\n",
    "y = postcovid.online_total_turnover.values.reshape(-1, 1)"
   ]
  },
  {
   "cell_type": "code",
   "execution_count": 13,
   "metadata": {},
   "outputs": [
    {
     "output_type": "stream",
     "name": "stdout",
     "text": [
      "Weight coefficients:  [[81.2221978]]\ny-axis intercept:  [2236.49142857]\n"
     ]
    }
   ],
   "source": [
    "# Fit the model to the data. \n",
    "# Note: This is the training step where you fit the line to the data.\n",
    "model.fit(X, y)\n",
    "\n",
    "# Print the coefficient and the intercept for the model\n",
    "print('Weight coefficients: ', model.coef_)\n",
    "print('y-axis intercept: ', model.intercept_)"
   ]
  },
  {
   "cell_type": "code",
   "execution_count": 14,
   "metadata": {},
   "outputs": [
    {
     "output_type": "stream",
     "name": "stdout",
     "text": [
      "Min X Value: [[0]]\nMax X Value: [[13]]\n"
     ]
    }
   ],
   "source": [
    "# Note: we have to transform our min and max values \n",
    "# so they are in the format: array([[ 1.17]])\n",
    "# This is the required format for `model.predict()`\n",
    "x_min = np.array([[X.min()]])\n",
    "x_max = np.array([[X.max()]])\n",
    "print(f\"Min X Value: {x_min}\")\n",
    "print(f\"Max X Value: {x_max}\")"
   ]
  },
  {
   "cell_type": "code",
   "execution_count": 15,
   "metadata": {},
   "outputs": [
    {
     "output_type": "stream",
     "name": "stdout",
     "text": [
      "Min y Value: [[2236.49142857]]\nMax y Value: [[3292.38]]\n"
     ]
    }
   ],
   "source": [
    "# Calculate the y_min and y_max using model.predict and x_min and x_max\n",
    "y_min = model.predict(x_min)\n",
    "y_max = model.predict(x_max)\n",
    "print(f\"Min y Value: {y_min}\")\n",
    "print(f\"Max y Value: {y_max}\")"
   ]
  },
  {
   "cell_type": "code",
   "execution_count": 16,
   "metadata": {},
   "outputs": [
    {
     "output_type": "execute_result",
     "data": {
      "text/plain": [
       "array([[3454.8243956 ],\n",
       "       [3536.04659341],\n",
       "       [3617.26879121],\n",
       "       [3698.49098901]])"
      ]
     },
     "metadata": {},
     "execution_count": 16
    }
   ],
   "source": [
    "# Calculate the y_min and y_max using model.predict and x_min and x_max\n",
    "y_min = model.predict(x_min)\n",
    "y_max_p = model.predict( [[15],[16],[17],[18]])\n",
    "y_max_p"
   ]
  },
  {
   "source": [
    "## Get values for total revenue"
   ],
   "cell_type": "markdown",
   "metadata": {}
  },
  {
   "cell_type": "code",
   "execution_count": 17,
   "metadata": {},
   "outputs": [],
   "source": [
    "# Assign the data to X and y\n",
    "# Note: Sklearn requires a two-dimensional array of values\n",
    "# so we use reshape to create this\n",
    "\n",
    "X = postcovid.index.values.reshape(-1, 1)\n",
    "y = postcovid.total_revenue_turnover.values.reshape(-1, 1)"
   ]
  },
  {
   "cell_type": "code",
   "execution_count": 18,
   "metadata": {},
   "outputs": [
    {
     "output_type": "stream",
     "name": "stdout",
     "text": [
      "Weight coefficients:  [[256.71450549]]\ny-axis intercept:  [27669.53428571]\n"
     ]
    }
   ],
   "source": [
    "# Fit the model to the data. \n",
    "# Note: This is the training step where you fit the line to the data.\n",
    "model.fit(X, y)\n",
    "\n",
    "# Print the coefficient and the intercept for the model\n",
    "print('Weight coefficients: ', model.coef_)\n",
    "print('y-axis intercept: ', model.intercept_)"
   ]
  },
  {
   "cell_type": "code",
   "execution_count": 19,
   "metadata": {},
   "outputs": [
    {
     "output_type": "stream",
     "name": "stdout",
     "text": [
      "Min X Value: [[0]]\nMax X Value: [[13]]\n"
     ]
    }
   ],
   "source": [
    "# Note: we have to transform our min and max values \n",
    "# so they are in the format: array([[ 1.17]])\n",
    "# This is the required format for `model.predict()`\n",
    "x_min = np.array([[X.min()]])\n",
    "x_max = np.array([[X.max()]])\n",
    "print(f\"Min X Value: {x_min}\")\n",
    "print(f\"Max X Value: {x_max}\")"
   ]
  },
  {
   "cell_type": "code",
   "execution_count": 20,
   "metadata": {},
   "outputs": [
    {
     "output_type": "execute_result",
     "data": {
      "text/plain": [
       "array([[31520.25186813],\n",
       "       [31776.96637363],\n",
       "       [32033.68087912],\n",
       "       [32290.39538462]])"
      ]
     },
     "metadata": {},
     "execution_count": 20
    }
   ],
   "source": [
    "# Calculate the y_min and y_max using model.predict and x_min and x_max\n",
    "y_min = model.predict(x_min)\n",
    "y_max_p = model.predict( [[15],[16],[17],[18]])\n",
    "y_max_p"
   ]
  },
  {
   "source": [
    "## Get values for food online revenue"
   ],
   "cell_type": "markdown",
   "metadata": {}
  },
  {
   "cell_type": "code",
   "execution_count": 21,
   "metadata": {},
   "outputs": [],
   "source": [
    "# Assign the data to X and y\n",
    "# Note: Sklearn requires a two-dimensional array of values\n",
    "# so we use reshape to create this\n",
    "\n",
    "X = postcovid.index.values.reshape(-1, 1)\n",
    "y = postcovid.online_food_turnover.values.reshape(-1, 1)"
   ]
  },
  {
   "cell_type": "code",
   "execution_count": 22,
   "metadata": {},
   "outputs": [
    {
     "output_type": "stream",
     "name": "stdout",
     "text": [
      "Weight coefficients:  [[31.94153846]]\ny-axis intercept:  [543.36571429]\n"
     ]
    }
   ],
   "source": [
    "# Fit the model to the data. \n",
    "# Note: This is the training step where you fit the line to the data.\n",
    "model.fit(X, y)\n",
    "\n",
    "# Print the coefficient and the intercept for the model\n",
    "print('Weight coefficients: ', model.coef_)\n",
    "print('y-axis intercept: ', model.intercept_)"
   ]
  },
  {
   "cell_type": "code",
   "execution_count": 23,
   "metadata": {},
   "outputs": [
    {
     "output_type": "stream",
     "name": "stdout",
     "text": [
      "Min X Value: [[0]]\nMax X Value: [[13]]\n"
     ]
    }
   ],
   "source": [
    "# Note: we have to transform our min and max values \n",
    "# so they are in the format: array([[ 1.17]])\n",
    "# This is the required format for `model.predict()`\n",
    "x_min = np.array([[X.min()]])\n",
    "x_max = np.array([[X.max()]])\n",
    "print(f\"Min X Value: {x_min}\")\n",
    "print(f\"Max X Value: {x_max}\")"
   ]
  },
  {
   "cell_type": "code",
   "execution_count": 24,
   "metadata": {},
   "outputs": [
    {
     "output_type": "execute_result",
     "data": {
      "text/plain": [
       "array([[1022.48879121],\n",
       "       [1054.43032967],\n",
       "       [1086.37186813],\n",
       "       [1118.31340659]])"
      ]
     },
     "metadata": {},
     "execution_count": 24
    }
   ],
   "source": [
    "# Calculate the y_min and y_max using model.predict and x_min and x_max\n",
    "y_min = model.predict(x_min)\n",
    "y_max_p = model.predict( [[15],[16],[17],[18]])\n",
    "y_max_p"
   ]
  },
  {
   "source": [
    "## Get values for non-food online revenue"
   ],
   "cell_type": "markdown",
   "metadata": {}
  },
  {
   "cell_type": "code",
   "execution_count": 25,
   "metadata": {},
   "outputs": [],
   "source": [
    "# Assign the data to X and y\n",
    "# Note: Sklearn requires a two-dimensional array of values\n",
    "# so we use reshape to create this\n",
    "\n",
    "X = postcovid.index.values.reshape(-1, 1)\n",
    "y = postcovid.online_nonfood_turnover.values.reshape(-1, 1)"
   ]
  },
  {
   "cell_type": "code",
   "execution_count": 26,
   "metadata": {},
   "outputs": [
    {
     "output_type": "stream",
     "name": "stdout",
     "text": [
      "Weight coefficients:  [[49.27736264]]\ny-axis intercept:  [1693.15428571]\n"
     ]
    }
   ],
   "source": [
    "# Fit the model to the data. \n",
    "# Note: This is the training step where you fit the line to the data.\n",
    "model.fit(X, y)\n",
    "\n",
    "# Print the coefficient and the intercept for the model\n",
    "print('Weight coefficients: ', model.coef_)\n",
    "print('y-axis intercept: ', model.intercept_)"
   ]
  },
  {
   "cell_type": "code",
   "execution_count": 27,
   "metadata": {},
   "outputs": [
    {
     "output_type": "stream",
     "name": "stdout",
     "text": [
      "Min X Value: [[0]]\nMax X Value: [[13]]\n"
     ]
    }
   ],
   "source": [
    "# Note: we have to transform our min and max values \n",
    "# so they are in the format: array([[ 1.17]])\n",
    "# This is the required format for `model.predict()`\n",
    "x_min = np.array([[X.min()]])\n",
    "x_max = np.array([[X.max()]])\n",
    "print(f\"Min X Value: {x_min}\")\n",
    "print(f\"Max X Value: {x_max}\")"
   ]
  },
  {
   "cell_type": "code",
   "execution_count": 28,
   "metadata": {},
   "outputs": [
    {
     "output_type": "execute_result",
     "data": {
      "text/plain": [
       "array([[2432.31472527],\n",
       "       [2481.59208791],\n",
       "       [2530.86945055],\n",
       "       [2580.14681319]])"
      ]
     },
     "metadata": {},
     "execution_count": 28
    }
   ],
   "source": [
    "# Calculate the y_min and y_max using model.predict and x_min and x_max\n",
    "y_min = model.predict(x_min)\n",
    "y_max_p = model.predict( [[15],[16],[17],[18]])\n",
    "y_max_p"
   ]
  },
  {
   "source": [
    "## Add new values to data frame"
   ],
   "cell_type": "markdown",
   "metadata": {}
  },
  {
   "cell_type": "code",
   "execution_count": 29,
   "metadata": {},
   "outputs": [],
   "source": [
    "# New rows:\n",
    "march_2021 = {'date':'Mar-2021', 'year':2021, 'month':'Mar', 'online_food_turnover':1022.48879121, 'online_nonfood_turnover':2432.31472527, 'online_total_turnover':3454.8243956, 'total_revenue_turnover':31520.25186813}\n",
    "\n",
    "april_2021 = {'date':'Apr-2021', 'year':2021, 'month':'Apr', 'online_food_turnover':1054.43032967, 'online_nonfood_turnover':2481.59208791, 'online_total_turnover':3536.04659341, 'total_revenue_turnover':31776.96637363}\n",
    "\n",
    "may_2021 = {'date':'May-2021', 'year':2021, 'month':'May', 'online_food_turnover':1086.37186813, 'online_nonfood_turnover':2530.86945055, 'online_total_turnover':3617.26879121, 'total_revenue_turnover':32033.68087912}\n",
    "\n",
    "june_2021 = {'date':'Jun-2021', 'year':2021, 'month':'Jun', 'online_food_turnover':1118.31340659, 'online_nonfood_turnover':2580.14681319, 'online_total_turnover':3698.49098901, 'total_revenue_turnover':32290.39538462}"
   ]
  },
  {
   "cell_type": "code",
   "execution_count": 31,
   "metadata": {},
   "outputs": [
    {
     "output_type": "execute_result",
     "data": {
      "text/plain": [
       "        date  year month  online_food_turnover  online_nonfood_turnover  \\\n",
       "88  Nov-2020  2020   Nov            813.100000              2223.300000   \n",
       "89  Dec-2020  2020   Dec            864.100000              2107.200000   \n",
       "90  Jan-2021  2021   Jan            903.900000              2117.100000   \n",
       "91  Feb-2021  2021   Feb            892.800000              2060.600000   \n",
       "92  Mar-2021  2021   Mar           1022.488791              2432.314725   \n",
       "\n",
       "    online_total_turnover  total_revenue_turnover  \n",
       "88            3036.400000            31571.400000  \n",
       "89            2971.300000            30450.900000  \n",
       "90            3021.000000            30538.500000  \n",
       "91            2953.400000            30300.600000  \n",
       "92            3454.824396            31520.251868  "
      ],
      "text/html": "<div>\n<style scoped>\n    .dataframe tbody tr th:only-of-type {\n        vertical-align: middle;\n    }\n\n    .dataframe tbody tr th {\n        vertical-align: top;\n    }\n\n    .dataframe thead th {\n        text-align: right;\n    }\n</style>\n<table border=\"1\" class=\"dataframe\">\n  <thead>\n    <tr style=\"text-align: right;\">\n      <th></th>\n      <th>date</th>\n      <th>year</th>\n      <th>month</th>\n      <th>online_food_turnover</th>\n      <th>online_nonfood_turnover</th>\n      <th>online_total_turnover</th>\n      <th>total_revenue_turnover</th>\n    </tr>\n  </thead>\n  <tbody>\n    <tr>\n      <th>88</th>\n      <td>Nov-2020</td>\n      <td>2020</td>\n      <td>Nov</td>\n      <td>813.100000</td>\n      <td>2223.300000</td>\n      <td>3036.400000</td>\n      <td>31571.400000</td>\n    </tr>\n    <tr>\n      <th>89</th>\n      <td>Dec-2020</td>\n      <td>2020</td>\n      <td>Dec</td>\n      <td>864.100000</td>\n      <td>2107.200000</td>\n      <td>2971.300000</td>\n      <td>30450.900000</td>\n    </tr>\n    <tr>\n      <th>90</th>\n      <td>Jan-2021</td>\n      <td>2021</td>\n      <td>Jan</td>\n      <td>903.900000</td>\n      <td>2117.100000</td>\n      <td>3021.000000</td>\n      <td>30538.500000</td>\n    </tr>\n    <tr>\n      <th>91</th>\n      <td>Feb-2021</td>\n      <td>2021</td>\n      <td>Feb</td>\n      <td>892.800000</td>\n      <td>2060.600000</td>\n      <td>2953.400000</td>\n      <td>30300.600000</td>\n    </tr>\n    <tr>\n      <th>92</th>\n      <td>Mar-2021</td>\n      <td>2021</td>\n      <td>Mar</td>\n      <td>1022.488791</td>\n      <td>2432.314725</td>\n      <td>3454.824396</td>\n      <td>31520.251868</td>\n    </tr>\n  </tbody>\n</table>\n</div>"
     },
     "metadata": {},
     "execution_count": 31
    }
   ],
   "source": [
    "#append row to the dataframe\n",
    "data = data.append(march_2021, ignore_index=True)\n",
    "data.tail()"
   ]
  },
  {
   "cell_type": "code",
   "execution_count": 32,
   "metadata": {},
   "outputs": [
    {
     "output_type": "execute_result",
     "data": {
      "text/plain": [
       "        date  year month  online_food_turnover  online_nonfood_turnover  \\\n",
       "91  Feb-2021  2021   Feb            892.800000              2060.600000   \n",
       "92  Mar-2021  2021   Mar           1022.488791              2432.314725   \n",
       "93  Apr-2021  2021   Apr           1054.430330              2481.592088   \n",
       "94  May-2021  2021   May           1086.371868              2530.869451   \n",
       "95  Jun-2021  2021   Jun           1118.313407              2580.146813   \n",
       "\n",
       "    online_total_turnover  total_revenue_turnover  \n",
       "91            2953.400000            30300.600000  \n",
       "92            3454.824396            31520.251868  \n",
       "93            3536.046593            31776.966374  \n",
       "94            3617.268791            32033.680879  \n",
       "95            3698.490989            32290.395385  "
      ],
      "text/html": "<div>\n<style scoped>\n    .dataframe tbody tr th:only-of-type {\n        vertical-align: middle;\n    }\n\n    .dataframe tbody tr th {\n        vertical-align: top;\n    }\n\n    .dataframe thead th {\n        text-align: right;\n    }\n</style>\n<table border=\"1\" class=\"dataframe\">\n  <thead>\n    <tr style=\"text-align: right;\">\n      <th></th>\n      <th>date</th>\n      <th>year</th>\n      <th>month</th>\n      <th>online_food_turnover</th>\n      <th>online_nonfood_turnover</th>\n      <th>online_total_turnover</th>\n      <th>total_revenue_turnover</th>\n    </tr>\n  </thead>\n  <tbody>\n    <tr>\n      <th>91</th>\n      <td>Feb-2021</td>\n      <td>2021</td>\n      <td>Feb</td>\n      <td>892.800000</td>\n      <td>2060.600000</td>\n      <td>2953.400000</td>\n      <td>30300.600000</td>\n    </tr>\n    <tr>\n      <th>92</th>\n      <td>Mar-2021</td>\n      <td>2021</td>\n      <td>Mar</td>\n      <td>1022.488791</td>\n      <td>2432.314725</td>\n      <td>3454.824396</td>\n      <td>31520.251868</td>\n    </tr>\n    <tr>\n      <th>93</th>\n      <td>Apr-2021</td>\n      <td>2021</td>\n      <td>Apr</td>\n      <td>1054.430330</td>\n      <td>2481.592088</td>\n      <td>3536.046593</td>\n      <td>31776.966374</td>\n    </tr>\n    <tr>\n      <th>94</th>\n      <td>May-2021</td>\n      <td>2021</td>\n      <td>May</td>\n      <td>1086.371868</td>\n      <td>2530.869451</td>\n      <td>3617.268791</td>\n      <td>32033.680879</td>\n    </tr>\n    <tr>\n      <th>95</th>\n      <td>Jun-2021</td>\n      <td>2021</td>\n      <td>Jun</td>\n      <td>1118.313407</td>\n      <td>2580.146813</td>\n      <td>3698.490989</td>\n      <td>32290.395385</td>\n    </tr>\n  </tbody>\n</table>\n</div>"
     },
     "metadata": {},
     "execution_count": 32
    }
   ],
   "source": [
    "#append row to the dataframe\n",
    "data = data.append(april_2021, ignore_index=True)\n",
    "data = data.append(may_2021, ignore_index=True)\n",
    "data = data.append(june_2021, ignore_index=True)\n",
    "data.tail()"
   ]
  },
  {
   "source": [
    "## Save dataframe as csv and go to ETL load to put into postgres\n"
   ],
   "cell_type": "markdown",
   "metadata": {}
  },
  {
   "cell_type": "code",
   "execution_count": 33,
   "metadata": {},
   "outputs": [],
   "source": [
    "data.to_csv('resources/final.csv',index = False, header=True)"
   ]
  }
 ],
 "metadata": {
  "kernelspec": {
   "name": "python3613jvsc74a57bd0c7cfa998c7c129bfbc9bcaf6ae862339b671c75137881111c79ca1714e07a0b8",
   "display_name": "Python 3.6.13 64-bit ('PythonAdv': conda)"
  }
 },
 "nbformat": 4,
 "nbformat_minor": 4
}