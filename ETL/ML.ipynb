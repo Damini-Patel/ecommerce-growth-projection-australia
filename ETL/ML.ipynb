{
 "cells": [
  {
   "cell_type": "code",
   "execution_count": 1,
   "metadata": {},
   "outputs": [],
   "source": [
    "# Dependencies\n",
    "import numpy as np\n",
    "import pandas as pd"
   ]
  },
  {
   "cell_type": "code",
   "execution_count": 2,
   "metadata": {},
   "outputs": [
    {
     "output_type": "execute_result",
     "data": {
      "text/plain": [
       "     date  year month  online_food_turnover  online_nonfood_turnover  \\\n",
       "0  Jul-13  2013   Jul                 139.5                    331.4   \n",
       "1  Aug-13  2013   Aug                 146.7                    329.6   \n",
       "2  Sep-13  2013   Sep                 139.7                    322.7   \n",
       "3  Oct-13  2013   Oct                 127.9                    351.6   \n",
       "4  Nov-13  2013   Nov                 138.5                    388.1   \n",
       "\n",
       "   online_total_turnover  total_revenue_turnover  \n",
       "0                  470.9                 22042.6  \n",
       "1                  476.3                 22204.7  \n",
       "2                  462.4                 22356.5  \n",
       "3                  479.5                 22431.6  \n",
       "4                  526.6                 22630.9  "
      ],
      "text/html": "<div>\n<style scoped>\n    .dataframe tbody tr th:only-of-type {\n        vertical-align: middle;\n    }\n\n    .dataframe tbody tr th {\n        vertical-align: top;\n    }\n\n    .dataframe thead th {\n        text-align: right;\n    }\n</style>\n<table border=\"1\" class=\"dataframe\">\n  <thead>\n    <tr style=\"text-align: right;\">\n      <th></th>\n      <th>date</th>\n      <th>year</th>\n      <th>month</th>\n      <th>online_food_turnover</th>\n      <th>online_nonfood_turnover</th>\n      <th>online_total_turnover</th>\n      <th>total_revenue_turnover</th>\n    </tr>\n  </thead>\n  <tbody>\n    <tr>\n      <th>0</th>\n      <td>Jul-13</td>\n      <td>2013</td>\n      <td>Jul</td>\n      <td>139.5</td>\n      <td>331.4</td>\n      <td>470.9</td>\n      <td>22042.6</td>\n    </tr>\n    <tr>\n      <th>1</th>\n      <td>Aug-13</td>\n      <td>2013</td>\n      <td>Aug</td>\n      <td>146.7</td>\n      <td>329.6</td>\n      <td>476.3</td>\n      <td>22204.7</td>\n    </tr>\n    <tr>\n      <th>2</th>\n      <td>Sep-13</td>\n      <td>2013</td>\n      <td>Sep</td>\n      <td>139.7</td>\n      <td>322.7</td>\n      <td>462.4</td>\n      <td>22356.5</td>\n    </tr>\n    <tr>\n      <th>3</th>\n      <td>Oct-13</td>\n      <td>2013</td>\n      <td>Oct</td>\n      <td>127.9</td>\n      <td>351.6</td>\n      <td>479.5</td>\n      <td>22431.6</td>\n    </tr>\n    <tr>\n      <th>4</th>\n      <td>Nov-13</td>\n      <td>2013</td>\n      <td>Nov</td>\n      <td>138.5</td>\n      <td>388.1</td>\n      <td>526.6</td>\n      <td>22630.9</td>\n    </tr>\n  </tbody>\n</table>\n</div>"
     },
     "metadata": {},
     "execution_count": 2
    }
   ],
   "source": [
    "# Read in csv\n",
    "data = pd.read_csv('resources/data.csv')\n",
    "data.head()"
   ]
  },
  {
   "cell_type": "code",
   "execution_count": 14,
   "metadata": {},
   "outputs": [
    {
     "output_type": "execute_result",
     "data": {
      "text/plain": [
       "     date  year month  online_food_turnover  online_nonfood_turnover  \\\n",
       "0  Jul-13  2013   Jul                 139.5                    331.4   \n",
       "1  Aug-13  2013   Aug                 146.7                    329.6   \n",
       "2  Sep-13  2013   Sep                 139.7                    322.7   \n",
       "3  Oct-13  2013   Oct                 127.9                    351.6   \n",
       "4  Nov-13  2013   Nov                 138.5                    388.1   \n",
       "\n",
       "   online_total_turnover  total_revenue_turnover  index  \n",
       "0                  470.9                 22042.6      1  \n",
       "1                  476.3                 22204.7      2  \n",
       "2                  462.4                 22356.5      3  \n",
       "3                  479.5                 22431.6      4  \n",
       "4                  526.6                 22630.9      5  "
      ],
      "text/html": "<div>\n<style scoped>\n    .dataframe tbody tr th:only-of-type {\n        vertical-align: middle;\n    }\n\n    .dataframe tbody tr th {\n        vertical-align: top;\n    }\n\n    .dataframe thead th {\n        text-align: right;\n    }\n</style>\n<table border=\"1\" class=\"dataframe\">\n  <thead>\n    <tr style=\"text-align: right;\">\n      <th></th>\n      <th>date</th>\n      <th>year</th>\n      <th>month</th>\n      <th>online_food_turnover</th>\n      <th>online_nonfood_turnover</th>\n      <th>online_total_turnover</th>\n      <th>total_revenue_turnover</th>\n      <th>index</th>\n    </tr>\n  </thead>\n  <tbody>\n    <tr>\n      <th>0</th>\n      <td>Jul-13</td>\n      <td>2013</td>\n      <td>Jul</td>\n      <td>139.5</td>\n      <td>331.4</td>\n      <td>470.9</td>\n      <td>22042.6</td>\n      <td>1</td>\n    </tr>\n    <tr>\n      <th>1</th>\n      <td>Aug-13</td>\n      <td>2013</td>\n      <td>Aug</td>\n      <td>146.7</td>\n      <td>329.6</td>\n      <td>476.3</td>\n      <td>22204.7</td>\n      <td>2</td>\n    </tr>\n    <tr>\n      <th>2</th>\n      <td>Sep-13</td>\n      <td>2013</td>\n      <td>Sep</td>\n      <td>139.7</td>\n      <td>322.7</td>\n      <td>462.4</td>\n      <td>22356.5</td>\n      <td>3</td>\n    </tr>\n    <tr>\n      <th>3</th>\n      <td>Oct-13</td>\n      <td>2013</td>\n      <td>Oct</td>\n      <td>127.9</td>\n      <td>351.6</td>\n      <td>479.5</td>\n      <td>22431.6</td>\n      <td>4</td>\n    </tr>\n    <tr>\n      <th>4</th>\n      <td>Nov-13</td>\n      <td>2013</td>\n      <td>Nov</td>\n      <td>138.5</td>\n      <td>388.1</td>\n      <td>526.6</td>\n      <td>22630.9</td>\n      <td>5</td>\n    </tr>\n  </tbody>\n</table>\n</div>"
     },
     "metadata": {},
     "execution_count": 14
    }
   ],
   "source": [
    "# Create new column for index so that regression can be done\n",
    "data['index'] = range(1, len(data) + 1)\n",
    "data.head()"
   ]
  },
  {
   "cell_type": "code",
   "execution_count": 4,
   "metadata": {},
   "outputs": [],
   "source": [
    "# Create the model and fit the model to the data\n",
    "from sklearn.linear_model import LinearRegression\n",
    "model = LinearRegression()"
   ]
  },
  {
   "source": [
    "### Get values for total online revenue"
   ],
   "cell_type": "markdown",
   "metadata": {}
  },
  {
   "cell_type": "code",
   "execution_count": 5,
   "metadata": {},
   "outputs": [],
   "source": [
    "# Assign the data to X and y\n",
    "# Note: Sklearn requires a two-dimensional array of values\n",
    "# so we use reshape to create this\n",
    "\n",
    "X = data.index.values.reshape(-1, 1)\n",
    "y = data.online_total_turnover.values.reshape(-1, 1)"
   ]
  },
  {
   "cell_type": "code",
   "execution_count": 6,
   "metadata": {},
   "outputs": [
    {
     "output_type": "stream",
     "name": "stdout",
     "text": [
      "Weight coefficients:  [[25.80915571]]\ny-axis intercept:  [138.07363254]\n"
     ]
    }
   ],
   "source": [
    "# Fit the model to the data. \n",
    "# Note: This is the training step where you fit the line to the data.\n",
    "model.fit(X, y)\n",
    "\n",
    "# Print the coefficient and the intercept for the model\n",
    "print('Weight coefficients: ', model.coef_)\n",
    "print('y-axis intercept: ', model.intercept_)"
   ]
  },
  {
   "cell_type": "code",
   "execution_count": 7,
   "metadata": {},
   "outputs": [
    {
     "output_type": "stream",
     "name": "stdout",
     "text": [
      "Min X Value: [[0]]\nMax X Value: [[91]]\n"
     ]
    }
   ],
   "source": [
    "# Note: we have to transform our min and max values \n",
    "# so they are in the format: array([[ 1.17]])\n",
    "# This is the required format for `model.predict()`\n",
    "x_min = np.array([[X.min()]])\n",
    "x_max = np.array([[X.max()]])\n",
    "print(f\"Min X Value: {x_min}\")\n",
    "print(f\"Max X Value: {x_max}\")"
   ]
  },
  {
   "cell_type": "code",
   "execution_count": 8,
   "metadata": {},
   "outputs": [
    {
     "output_type": "execute_result",
     "data": {
      "text/plain": [
       "array([[2538.32511367],\n",
       "       [2564.13426938],\n",
       "       [2589.94342509],\n",
       "       [2615.7525808 ]])"
      ]
     },
     "metadata": {},
     "execution_count": 8
    }
   ],
   "source": [
    "# Calculate the y_min and y_max using model.predict and x_min and x_max\n",
    "y_min = model.predict(x_min)\n",
    "y_max_p = model.predict( [[93],[94],[95],[96]])\n",
    "y_max_p"
   ]
  },
  {
   "source": [
    "### Get values for total revenue"
   ],
   "cell_type": "markdown",
   "metadata": {}
  },
  {
   "cell_type": "code",
   "execution_count": 9,
   "metadata": {},
   "outputs": [],
   "source": [
    "# Assign the data to X and y\n",
    "# Note: Sklearn requires a two-dimensional array of values\n",
    "# so we use reshape to create this\n",
    "\n",
    "X = data.index.values.reshape(-1, 1)\n",
    "y = data.total_revenue_turnover.values.reshape(-1, 1)"
   ]
  },
  {
   "cell_type": "code",
   "execution_count": 10,
   "metadata": {},
   "outputs": [
    {
     "output_type": "stream",
     "name": "stdout",
     "text": [
      "Weight coefficients:  [[77.20694096]]\ny-axis intercept:  [22404.73092567]\n"
     ]
    }
   ],
   "source": [
    "# Fit the model to the data. \n",
    "# Note: This is the training step where you fit the line to the data.\n",
    "model.fit(X, y)\n",
    "\n",
    "# Print the coefficient and the intercept for the model\n",
    "print('Weight coefficients: ', model.coef_)\n",
    "print('y-axis intercept: ', model.intercept_)"
   ]
  },
  {
   "cell_type": "code",
   "execution_count": 11,
   "metadata": {},
   "outputs": [
    {
     "output_type": "stream",
     "name": "stdout",
     "text": [
      "Min X Value: [[0]]\nMax X Value: [[91]]\n"
     ]
    }
   ],
   "source": [
    "# Note: we have to transform our min and max values \n",
    "# so they are in the format: array([[ 1.17]])\n",
    "# This is the required format for `model.predict()`\n",
    "x_min = np.array([[X.min()]])\n",
    "x_max = np.array([[X.max()]])\n",
    "print(f\"Min X Value: {x_min}\")\n",
    "print(f\"Max X Value: {x_max}\")"
   ]
  },
  {
   "cell_type": "code",
   "execution_count": 12,
   "metadata": {},
   "outputs": [
    {
     "output_type": "execute_result",
     "data": {
      "text/plain": [
       "array([[29584.97643451],\n",
       "       [29662.18337546],\n",
       "       [29739.39031642],\n",
       "       [29816.59725737]])"
      ]
     },
     "metadata": {},
     "execution_count": 12
    }
   ],
   "source": [
    "# Calculate the y_min and y_max using model.predict and x_min and x_max\n",
    "y_min = model.predict(x_min)\n",
    "y_max_p = model.predict( [[93],[94],[95],[96]])\n",
    "y_max_p"
   ]
  },
  {
   "source": [
    "### Get values for food online revenue"
   ],
   "cell_type": "markdown",
   "metadata": {}
  },
  {
   "cell_type": "code",
   "execution_count": 16,
   "metadata": {},
   "outputs": [],
   "source": [
    "# Assign the data to X and y\n",
    "# Note: Sklearn requires a two-dimensional array of values\n",
    "# so we use reshape to create this\n",
    "\n",
    "X = data.index.values.reshape(-1, 1)\n",
    "y = data.online_food_turnover.values.reshape(-1, 1)"
   ]
  },
  {
   "cell_type": "code",
   "execution_count": 17,
   "metadata": {},
   "outputs": [
    {
     "output_type": "stream",
     "name": "stdout",
     "text": [
      "Weight coefficients:  [[6.98838833]]\ny-axis intercept:  [27.51963534]\n"
     ]
    }
   ],
   "source": [
    "# Fit the model to the data. \n",
    "# Note: This is the training step where you fit the line to the data.\n",
    "model.fit(X, y)\n",
    "\n",
    "# Print the coefficient and the intercept for the model\n",
    "print('Weight coefficients: ', model.coef_)\n",
    "print('y-axis intercept: ', model.intercept_)"
   ]
  },
  {
   "cell_type": "code",
   "execution_count": 18,
   "metadata": {},
   "outputs": [
    {
     "output_type": "stream",
     "name": "stdout",
     "text": [
      "Min X Value: [[0]]\nMax X Value: [[91]]\n"
     ]
    }
   ],
   "source": [
    "# Note: we have to transform our min and max values \n",
    "# so they are in the format: array([[ 1.17]])\n",
    "# This is the required format for `model.predict()`\n",
    "x_min = np.array([[X.min()]])\n",
    "x_max = np.array([[X.max()]])\n",
    "print(f\"Min X Value: {x_min}\")\n",
    "print(f\"Max X Value: {x_max}\")"
   ]
  },
  {
   "cell_type": "code",
   "execution_count": 19,
   "metadata": {},
   "outputs": [
    {
     "output_type": "execute_result",
     "data": {
      "text/plain": [
       "array([[677.43975001],\n",
       "       [684.42813834],\n",
       "       [691.41652667],\n",
       "       [698.404915  ]])"
      ]
     },
     "metadata": {},
     "execution_count": 19
    }
   ],
   "source": [
    "# Calculate the y_min and y_max using model.predict and x_min and x_max\n",
    "y_min = model.predict(x_min)\n",
    "y_max_p = model.predict( [[93],[94],[95],[96]])\n",
    "y_max_p"
   ]
  },
  {
   "source": [
    "### Get values for non-food online revenue"
   ],
   "cell_type": "markdown",
   "metadata": {}
  },
  {
   "cell_type": "code",
   "execution_count": 20,
   "metadata": {},
   "outputs": [],
   "source": [
    "# Assign the data to X and y\n",
    "# Note: Sklearn requires a two-dimensional array of values\n",
    "# so we use reshape to create this\n",
    "\n",
    "X = data.index.values.reshape(-1, 1)\n",
    "y = data.online_nonfood_turnover.values.reshape(-1, 1)"
   ]
  },
  {
   "cell_type": "code",
   "execution_count": 21,
   "metadata": {},
   "outputs": [
    {
     "output_type": "stream",
     "name": "stdout",
     "text": [
      "Weight coefficients:  [[18.82068184]]\ny-axis intercept:  [110.55897616]\n"
     ]
    }
   ],
   "source": [
    "# Fit the model to the data. \n",
    "# Note: This is the training step where you fit the line to the data.\n",
    "model.fit(X, y)\n",
    "\n",
    "# Print the coefficient and the intercept for the model\n",
    "print('Weight coefficients: ', model.coef_)\n",
    "print('y-axis intercept: ', model.intercept_)"
   ]
  },
  {
   "cell_type": "code",
   "execution_count": 22,
   "metadata": {},
   "outputs": [
    {
     "output_type": "stream",
     "name": "stdout",
     "text": [
      "Min X Value: [[0]]\nMax X Value: [[91]]\n"
     ]
    }
   ],
   "source": [
    "# Note: we have to transform our min and max values \n",
    "# so they are in the format: array([[ 1.17]])\n",
    "# This is the required format for `model.predict()`\n",
    "x_min = np.array([[X.min()]])\n",
    "x_max = np.array([[X.max()]])\n",
    "print(f\"Min X Value: {x_min}\")\n",
    "print(f\"Max X Value: {x_max}\")"
   ]
  },
  {
   "cell_type": "code",
   "execution_count": 23,
   "metadata": {},
   "outputs": [
    {
     "output_type": "execute_result",
     "data": {
      "text/plain": [
       "array([[1860.88238753],\n",
       "       [1879.70306937],\n",
       "       [1898.52375121],\n",
       "       [1917.34443306]])"
      ]
     },
     "metadata": {},
     "execution_count": 23
    }
   ],
   "source": [
    "# Calculate the y_min and y_max using model.predict and x_min and x_max\n",
    "y_min = model.predict(x_min)\n",
    "y_max_p = model.predict( [[93],[94],[95],[96]])\n",
    "y_max_p"
   ]
  },
  {
   "source": [
    "### Add new values to data frame"
   ],
   "cell_type": "markdown",
   "metadata": {}
  },
  {
   "cell_type": "code",
   "execution_count": null,
   "metadata": {},
   "outputs": [],
   "source": []
  },
  {
   "cell_type": "code",
   "execution_count": null,
   "metadata": {},
   "outputs": [],
   "source": []
  },
  {
   "cell_type": "code",
   "execution_count": null,
   "metadata": {},
   "outputs": [],
   "source": []
  },
  {
   "cell_type": "code",
   "execution_count": null,
   "metadata": {},
   "outputs": [],
   "source": []
  }
 ],
 "metadata": {
  "kernelspec": {
   "name": "python3613jvsc74a57bd0c7cfa998c7c129bfbc9bcaf6ae862339b671c75137881111c79ca1714e07a0b8",
   "display_name": "Python 3.6.13 64-bit ('PythonAdv': conda)"
  }
 },
 "nbformat": 4,
 "nbformat_minor": 4
}